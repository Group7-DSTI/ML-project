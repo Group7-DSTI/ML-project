{
 "cells": [
  {
   "cell_type": "code",
   "execution_count": 1,
   "id": "56560984",
   "metadata": {},
   "outputs": [],
   "source": [
    "# Dans une cellule de code\n",
    "def dire_bonjour(nom):\n",
    "    return f\"Bonjour, {nom} !\"\n",
    "\n",
    "def readTsv(tsv_path,pd):\n",
    "    return pd.read_csv(tsv_path, sep='\\t', encoding='latin-1')\n",
    "    \n",
    "\n",
    "def conversionTsvToCsv(tsv_path,csv_path):\n",
    "    # Essayer différents encodages jusqu'à ce que le fichier soit lu correctement\n",
    "    encodings = ['utf-8', 'latin-1', 'iso-8859-1']\n",
    "\n",
    "    for encoding in encodings:\n",
    "        try:\n",
    "            # Charger le fichier TSV dans un DataFrame\n",
    "            df = pd.read_csv(tsv_path, sep='\\t', encoding=encoding)\n",
    "\n",
    "            # Enregistrer le DataFrame dans un fichier CSV\n",
    "            df.to_csv(csv_path, index=False)\n",
    "\n",
    "            print(f\"Le fichier a été lu avec succès avec l'encodage : {encoding}\")\n",
    "            break  # Sortir de la boucle si la lecture réussit\n",
    "\n",
    "        except UnicodeDecodeError:\n",
    "            print(f\"Échec de la lecture avec l'encodage : {encoding}\")\n"
   ]
  },
  {
   "cell_type": "code",
   "execution_count": null,
   "id": "52df2d4e",
   "metadata": {},
   "outputs": [],
   "source": []
  }
 ],
 "metadata": {
  "kernelspec": {
   "display_name": "Python 3 (ipykernel)",
   "language": "python",
   "name": "python3"
  },
  "language_info": {
   "codemirror_mode": {
    "name": "ipython",
    "version": 3
   },
   "file_extension": ".py",
   "mimetype": "text/x-python",
   "name": "python",
   "nbconvert_exporter": "python",
   "pygments_lexer": "ipython3",
   "version": "3.11.5"
  }
 },
 "nbformat": 4,
 "nbformat_minor": 5
}
