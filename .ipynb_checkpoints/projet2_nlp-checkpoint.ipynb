{
 "cells": [
  {
   "cell_type": "code",
   "execution_count": 2,
   "id": "534447b9-04b5-48b6-85ec-b87aa88e7211",
   "metadata": {
    "tags": []
   },
   "outputs": [],
   "source": [
    "import numpy as np\n",
    "import pandas as pd\n",
    "import neattext as nt\n",
    "import matplotlib.pyplot as plt\n",
    "import seaborn as sns"
   ]
  },
  {
   "cell_type": "code",
   "execution_count": 70,
   "id": "4024bbd4-a79f-4722-8f31-7a84c877ea04",
   "metadata": {
    "tags": []
   },
   "outputs": [],
   "source": [
    "# Essayer différents encodages jusqu'à ce que le fichier soit lu correctement\n",
    "# encodings = ['utf-8', 'latin-1', 'iso-8859-1']\n",
    "\n",
    "# for encoding in encodings:\n",
    "#     try:\n",
    "#         # Charger le fichier TSV dans un DataFrame\n",
    "#         df = pd.read_csv('test_set.tsv', sep='\\t', encoding=encoding)\n",
    "\n",
    "#         # Enregistrer le DataFrame dans un fichier CSV\n",
    "#         df.to_csv('test_set.csv', index=False)\n",
    "\n",
    "#         print(f\"Le fichier a été lu avec succès avec l'encodage : {encoding}\")\n",
    "#         break  # Sortir de la boucle si la lecture réussit\n",
    "\n",
    "#     except UnicodeDecodeError:\n",
    "#         print(f\"Échec de la lecture avec l'encodage : {encoding}\")"
   ]
  },
  {
   "cell_type": "markdown",
   "id": "f9dacffe-d558-4a52-ad7f-418f2c7fb1d1",
   "metadata": {},
   "source": [
    "### Data processing"
   ]
  },
  {
   "cell_type": "code",
   "execution_count": 6,
   "id": "6a017fd1-e727-422d-9662-3ce6ce7fe8a7",
   "metadata": {
    "tags": []
   },
   "outputs": [],
   "source": [
    "#reads the contents of the Excel file \"training_set.xls\" and stores the data in a DataFrame object named \"data\"\n",
    "data = pd.read_excel(\"training_set.xls\") "
   ]
  },
  {
   "cell_type": "code",
   "execution_count": 7,
   "id": "f96d6000-5670-488b-a25d-8e4c9da870d7",
   "metadata": {
    "tags": []
   },
   "outputs": [],
   "source": [
    "#creates a copy of the DataFrame object \"data\" and stores it in a new DataFrame object named \"df_copy\"\n",
    "df_copy = data.copy()"
   ]
  },
  {
   "cell_type": "code",
   "execution_count": 8,
   "id": "5aec7c6a-3977-4213-8598-d5ea6a38ad9e",
   "metadata": {
    "tags": []
   },
   "outputs": [
    {
     "data": {
      "text/html": [
       "<div>\n",
       "<style scoped>\n",
       "    .dataframe tbody tr th:only-of-type {\n",
       "        vertical-align: middle;\n",
       "    }\n",
       "\n",
       "    .dataframe tbody tr th {\n",
       "        vertical-align: top;\n",
       "    }\n",
       "\n",
       "    .dataframe thead th {\n",
       "        text-align: right;\n",
       "    }\n",
       "</style>\n",
       "<table border=\"1\" class=\"dataframe\">\n",
       "  <thead>\n",
       "    <tr style=\"text-align: right;\">\n",
       "      <th></th>\n",
       "      <th>essay_id</th>\n",
       "      <th>essay_set</th>\n",
       "      <th>essay</th>\n",
       "      <th>rater1_domain1</th>\n",
       "      <th>rater2_domain1</th>\n",
       "      <th>rater3_domain1</th>\n",
       "      <th>domain1_score</th>\n",
       "      <th>rater1_domain2</th>\n",
       "      <th>rater2_domain2</th>\n",
       "      <th>domain2_score</th>\n",
       "      <th>...</th>\n",
       "      <th>rater2_trait3</th>\n",
       "      <th>rater2_trait4</th>\n",
       "      <th>rater2_trait5</th>\n",
       "      <th>rater2_trait6</th>\n",
       "      <th>rater3_trait1</th>\n",
       "      <th>rater3_trait2</th>\n",
       "      <th>rater3_trait3</th>\n",
       "      <th>rater3_trait4</th>\n",
       "      <th>rater3_trait5</th>\n",
       "      <th>rater3_trait6</th>\n",
       "    </tr>\n",
       "  </thead>\n",
       "  <tbody>\n",
       "    <tr>\n",
       "      <th>0</th>\n",
       "      <td>1</td>\n",
       "      <td>1</td>\n",
       "      <td>Dear local newspaper, I think effects computer...</td>\n",
       "      <td>4.0</td>\n",
       "      <td>4.0</td>\n",
       "      <td>NaN</td>\n",
       "      <td>8.0</td>\n",
       "      <td>NaN</td>\n",
       "      <td>NaN</td>\n",
       "      <td>NaN</td>\n",
       "      <td>...</td>\n",
       "      <td>NaN</td>\n",
       "      <td>NaN</td>\n",
       "      <td>NaN</td>\n",
       "      <td>NaN</td>\n",
       "      <td>NaN</td>\n",
       "      <td>NaN</td>\n",
       "      <td>NaN</td>\n",
       "      <td>NaN</td>\n",
       "      <td>NaN</td>\n",
       "      <td>NaN</td>\n",
       "    </tr>\n",
       "    <tr>\n",
       "      <th>1</th>\n",
       "      <td>2</td>\n",
       "      <td>1</td>\n",
       "      <td>Dear @CAPS1 @CAPS2, I believe that using compu...</td>\n",
       "      <td>5.0</td>\n",
       "      <td>4.0</td>\n",
       "      <td>NaN</td>\n",
       "      <td>9.0</td>\n",
       "      <td>NaN</td>\n",
       "      <td>NaN</td>\n",
       "      <td>NaN</td>\n",
       "      <td>...</td>\n",
       "      <td>NaN</td>\n",
       "      <td>NaN</td>\n",
       "      <td>NaN</td>\n",
       "      <td>NaN</td>\n",
       "      <td>NaN</td>\n",
       "      <td>NaN</td>\n",
       "      <td>NaN</td>\n",
       "      <td>NaN</td>\n",
       "      <td>NaN</td>\n",
       "      <td>NaN</td>\n",
       "    </tr>\n",
       "    <tr>\n",
       "      <th>2</th>\n",
       "      <td>3</td>\n",
       "      <td>1</td>\n",
       "      <td>Dear, @CAPS1 @CAPS2 @CAPS3 More and more peopl...</td>\n",
       "      <td>4.0</td>\n",
       "      <td>3.0</td>\n",
       "      <td>NaN</td>\n",
       "      <td>7.0</td>\n",
       "      <td>NaN</td>\n",
       "      <td>NaN</td>\n",
       "      <td>NaN</td>\n",
       "      <td>...</td>\n",
       "      <td>NaN</td>\n",
       "      <td>NaN</td>\n",
       "      <td>NaN</td>\n",
       "      <td>NaN</td>\n",
       "      <td>NaN</td>\n",
       "      <td>NaN</td>\n",
       "      <td>NaN</td>\n",
       "      <td>NaN</td>\n",
       "      <td>NaN</td>\n",
       "      <td>NaN</td>\n",
       "    </tr>\n",
       "    <tr>\n",
       "      <th>3</th>\n",
       "      <td>4</td>\n",
       "      <td>1</td>\n",
       "      <td>Dear Local Newspaper, @CAPS1 I have found that...</td>\n",
       "      <td>5.0</td>\n",
       "      <td>5.0</td>\n",
       "      <td>NaN</td>\n",
       "      <td>10.0</td>\n",
       "      <td>NaN</td>\n",
       "      <td>NaN</td>\n",
       "      <td>NaN</td>\n",
       "      <td>...</td>\n",
       "      <td>NaN</td>\n",
       "      <td>NaN</td>\n",
       "      <td>NaN</td>\n",
       "      <td>NaN</td>\n",
       "      <td>NaN</td>\n",
       "      <td>NaN</td>\n",
       "      <td>NaN</td>\n",
       "      <td>NaN</td>\n",
       "      <td>NaN</td>\n",
       "      <td>NaN</td>\n",
       "    </tr>\n",
       "    <tr>\n",
       "      <th>4</th>\n",
       "      <td>5</td>\n",
       "      <td>1</td>\n",
       "      <td>Dear @LOCATION1, I know having computers has a...</td>\n",
       "      <td>4.0</td>\n",
       "      <td>4.0</td>\n",
       "      <td>NaN</td>\n",
       "      <td>8.0</td>\n",
       "      <td>NaN</td>\n",
       "      <td>NaN</td>\n",
       "      <td>NaN</td>\n",
       "      <td>...</td>\n",
       "      <td>NaN</td>\n",
       "      <td>NaN</td>\n",
       "      <td>NaN</td>\n",
       "      <td>NaN</td>\n",
       "      <td>NaN</td>\n",
       "      <td>NaN</td>\n",
       "      <td>NaN</td>\n",
       "      <td>NaN</td>\n",
       "      <td>NaN</td>\n",
       "      <td>NaN</td>\n",
       "    </tr>\n",
       "  </tbody>\n",
       "</table>\n",
       "<p>5 rows × 28 columns</p>\n",
       "</div>"
      ],
      "text/plain": [
       "   essay_id  essay_set                                              essay  \\\n",
       "0         1          1  Dear local newspaper, I think effects computer...   \n",
       "1         2          1  Dear @CAPS1 @CAPS2, I believe that using compu...   \n",
       "2         3          1  Dear, @CAPS1 @CAPS2 @CAPS3 More and more peopl...   \n",
       "3         4          1  Dear Local Newspaper, @CAPS1 I have found that...   \n",
       "4         5          1  Dear @LOCATION1, I know having computers has a...   \n",
       "\n",
       "   rater1_domain1  rater2_domain1  rater3_domain1  domain1_score  \\\n",
       "0             4.0             4.0             NaN            8.0   \n",
       "1             5.0             4.0             NaN            9.0   \n",
       "2             4.0             3.0             NaN            7.0   \n",
       "3             5.0             5.0             NaN           10.0   \n",
       "4             4.0             4.0             NaN            8.0   \n",
       "\n",
       "   rater1_domain2  rater2_domain2  domain2_score  ...  rater2_trait3  \\\n",
       "0             NaN             NaN            NaN  ...            NaN   \n",
       "1             NaN             NaN            NaN  ...            NaN   \n",
       "2             NaN             NaN            NaN  ...            NaN   \n",
       "3             NaN             NaN            NaN  ...            NaN   \n",
       "4             NaN             NaN            NaN  ...            NaN   \n",
       "\n",
       "   rater2_trait4  rater2_trait5  rater2_trait6  rater3_trait1  rater3_trait2  \\\n",
       "0            NaN            NaN            NaN            NaN            NaN   \n",
       "1            NaN            NaN            NaN            NaN            NaN   \n",
       "2            NaN            NaN            NaN            NaN            NaN   \n",
       "3            NaN            NaN            NaN            NaN            NaN   \n",
       "4            NaN            NaN            NaN            NaN            NaN   \n",
       "\n",
       "   rater3_trait3  rater3_trait4  rater3_trait5  rater3_trait6  \n",
       "0            NaN            NaN            NaN            NaN  \n",
       "1            NaN            NaN            NaN            NaN  \n",
       "2            NaN            NaN            NaN            NaN  \n",
       "3            NaN            NaN            NaN            NaN  \n",
       "4            NaN            NaN            NaN            NaN  \n",
       "\n",
       "[5 rows x 28 columns]"
      ]
     },
     "execution_count": 8,
     "metadata": {},
     "output_type": "execute_result"
    }
   ],
   "source": [
    "#displays the first five rows of the DataFrame object \"df_copy\"\n",
    "df_copy.head()"
   ]
  },
  {
   "cell_type": "code",
   "execution_count": 74,
   "id": "1e95676f-f4ce-4b8c-a97c-4fadbf996f4d",
   "metadata": {
    "tags": []
   },
   "outputs": [
    {
     "data": {
      "text/plain": [
       "essay_id              0\n",
       "essay_set             0\n",
       "essay                 0\n",
       "rater1_domain1        1\n",
       "rater2_domain1        1\n",
       "rater3_domain1    12850\n",
       "domain1_score         1\n",
       "rater1_domain2    11178\n",
       "rater2_domain2    11178\n",
       "domain2_score     11178\n",
       "rater1_trait1     10686\n",
       "rater1_trait2     10686\n",
       "rater1_trait3     10686\n",
       "rater1_trait4     10686\n",
       "rater1_trait5     12255\n",
       "rater1_trait6     12255\n",
       "rater2_trait1     10686\n",
       "rater2_trait2     10686\n",
       "rater2_trait3     10686\n",
       "rater2_trait4     10686\n",
       "rater2_trait5     12255\n",
       "rater2_trait6     12255\n",
       "rater3_trait1     12850\n",
       "rater3_trait2     12850\n",
       "rater3_trait3     12850\n",
       "rater3_trait4     12850\n",
       "rater3_trait5     12850\n",
       "rater3_trait6     12850\n",
       "dtype: int64"
      ]
     },
     "execution_count": 74,
     "metadata": {},
     "output_type": "execute_result"
    }
   ],
   "source": [
    "#counts the number of missing values (NaNs) in each column of the DataFrame object and displays a summary of the counts\n",
    "df_copy.isnull().sum()"
   ]
  },
  {
   "cell_type": "code",
   "execution_count": 9,
   "id": "f21c2e96-2ea3-4091-90d4-a8836aee0a2e",
   "metadata": {
    "tags": []
   },
   "outputs": [],
   "source": [
    "#selects a subset of the DataFrame object, keeping only the listed columns\n",
    "df = df_copy[[\"essay_id\", \"essay_set\", \"essay\", \"rater1_domain1\", \"rater2_domain1\", \"domain1_score\"]]"
   ]
  },
  {
   "cell_type": "code",
   "execution_count": 10,
   "id": "0826d08b-ed84-4c81-8c7a-b28fa2150d97",
   "metadata": {
    "tags": []
   },
   "outputs": [
    {
     "data": {
      "text/html": [
       "<div>\n",
       "<style scoped>\n",
       "    .dataframe tbody tr th:only-of-type {\n",
       "        vertical-align: middle;\n",
       "    }\n",
       "\n",
       "    .dataframe tbody tr th {\n",
       "        vertical-align: top;\n",
       "    }\n",
       "\n",
       "    .dataframe thead th {\n",
       "        text-align: right;\n",
       "    }\n",
       "</style>\n",
       "<table border=\"1\" class=\"dataframe\">\n",
       "  <thead>\n",
       "    <tr style=\"text-align: right;\">\n",
       "      <th></th>\n",
       "      <th>essay_id</th>\n",
       "      <th>essay_set</th>\n",
       "      <th>essay</th>\n",
       "      <th>rater1_domain1</th>\n",
       "      <th>rater2_domain1</th>\n",
       "      <th>domain1_score</th>\n",
       "    </tr>\n",
       "  </thead>\n",
       "  <tbody>\n",
       "    <tr>\n",
       "      <th>0</th>\n",
       "      <td>1</td>\n",
       "      <td>1</td>\n",
       "      <td>Dear local newspaper, I think effects computer...</td>\n",
       "      <td>4.0</td>\n",
       "      <td>4.0</td>\n",
       "      <td>8.0</td>\n",
       "    </tr>\n",
       "    <tr>\n",
       "      <th>1</th>\n",
       "      <td>2</td>\n",
       "      <td>1</td>\n",
       "      <td>Dear @CAPS1 @CAPS2, I believe that using compu...</td>\n",
       "      <td>5.0</td>\n",
       "      <td>4.0</td>\n",
       "      <td>9.0</td>\n",
       "    </tr>\n",
       "    <tr>\n",
       "      <th>2</th>\n",
       "      <td>3</td>\n",
       "      <td>1</td>\n",
       "      <td>Dear, @CAPS1 @CAPS2 @CAPS3 More and more peopl...</td>\n",
       "      <td>4.0</td>\n",
       "      <td>3.0</td>\n",
       "      <td>7.0</td>\n",
       "    </tr>\n",
       "    <tr>\n",
       "      <th>3</th>\n",
       "      <td>4</td>\n",
       "      <td>1</td>\n",
       "      <td>Dear Local Newspaper, @CAPS1 I have found that...</td>\n",
       "      <td>5.0</td>\n",
       "      <td>5.0</td>\n",
       "      <td>10.0</td>\n",
       "    </tr>\n",
       "    <tr>\n",
       "      <th>4</th>\n",
       "      <td>5</td>\n",
       "      <td>1</td>\n",
       "      <td>Dear @LOCATION1, I know having computers has a...</td>\n",
       "      <td>4.0</td>\n",
       "      <td>4.0</td>\n",
       "      <td>8.0</td>\n",
       "    </tr>\n",
       "  </tbody>\n",
       "</table>\n",
       "</div>"
      ],
      "text/plain": [
       "   essay_id  essay_set                                              essay  \\\n",
       "0         1          1  Dear local newspaper, I think effects computer...   \n",
       "1         2          1  Dear @CAPS1 @CAPS2, I believe that using compu...   \n",
       "2         3          1  Dear, @CAPS1 @CAPS2 @CAPS3 More and more peopl...   \n",
       "3         4          1  Dear Local Newspaper, @CAPS1 I have found that...   \n",
       "4         5          1  Dear @LOCATION1, I know having computers has a...   \n",
       "\n",
       "   rater1_domain1  rater2_domain1  domain1_score  \n",
       "0             4.0             4.0            8.0  \n",
       "1             5.0             4.0            9.0  \n",
       "2             4.0             3.0            7.0  \n",
       "3             5.0             5.0           10.0  \n",
       "4             4.0             4.0            8.0  "
      ]
     },
     "execution_count": 10,
     "metadata": {},
     "output_type": "execute_result"
    }
   ],
   "source": [
    "df.head()"
   ]
  },
  {
   "cell_type": "code",
   "execution_count": 17,
   "id": "0018bf3d-4d6a-4543-863b-611aec95cd2a",
   "metadata": {
    "tags": []
   },
   "outputs": [
    {
     "name": "stderr",
     "output_type": "stream",
     "text": [
      "C:\\Users\\Dell\\AppData\\Local\\Temp\\ipykernel_1900\\2475422004.py:2: SettingWithCopyWarning: \n",
      "A value is trying to be set on a copy of a slice from a DataFrame\n",
      "\n",
      "See the caveats in the documentation: https://pandas.pydata.org/pandas-docs/stable/user_guide/indexing.html#returning-a-view-versus-a-copy\n",
      "  df.fillna(0, inplace=True)\n"
     ]
    }
   ],
   "source": [
    "# Fill NaN values with 0\n",
    "df.fillna(0, inplace=True)"
   ]
  },
  {
   "cell_type": "code",
   "execution_count": 12,
   "id": "77c17a6b-2076-4f44-963c-7df2a58f7ed0",
   "metadata": {
    "tags": []
   },
   "outputs": [
    {
     "data": {
      "text/plain": [
       "essay_id          0\n",
       "essay_set         0\n",
       "essay             0\n",
       "rater1_domain1    0\n",
       "rater2_domain1    0\n",
       "domain1_score     0\n",
       "dtype: int64"
      ]
     },
     "execution_count": 12,
     "metadata": {},
     "output_type": "execute_result"
    }
   ],
   "source": [
    "#counts the number of missing values (NaNs) in each column of the DataFrame object and displays a summary of the counts\n",
    "df.isnull().sum()"
   ]
  },
  {
   "cell_type": "code",
   "execution_count": 79,
   "id": "dfe63734-9aef-431d-8723-78dd612f0876",
   "metadata": {
    "tags": []
   },
   "outputs": [
    {
     "data": {
      "text/html": [
       "<div>\n",
       "<style scoped>\n",
       "    .dataframe tbody tr th:only-of-type {\n",
       "        vertical-align: middle;\n",
       "    }\n",
       "\n",
       "    .dataframe tbody tr th {\n",
       "        vertical-align: top;\n",
       "    }\n",
       "\n",
       "    .dataframe thead th {\n",
       "        text-align: right;\n",
       "    }\n",
       "</style>\n",
       "<table border=\"1\" class=\"dataframe\">\n",
       "  <thead>\n",
       "    <tr style=\"text-align: right;\">\n",
       "      <th></th>\n",
       "      <th>essay_id</th>\n",
       "      <th>essay_set</th>\n",
       "      <th>essay</th>\n",
       "      <th>rater1_domain1</th>\n",
       "      <th>rater2_domain1</th>\n",
       "      <th>domain1_score</th>\n",
       "    </tr>\n",
       "  </thead>\n",
       "  <tbody>\n",
       "    <tr>\n",
       "      <th>12973</th>\n",
       "      <td>21626</td>\n",
       "      <td>8</td>\n",
       "      <td>In most stories mothers and daughters are eit...</td>\n",
       "      <td>17.0</td>\n",
       "      <td>18.0</td>\n",
       "      <td>35.0</td>\n",
       "    </tr>\n",
       "    <tr>\n",
       "      <th>12974</th>\n",
       "      <td>21628</td>\n",
       "      <td>8</td>\n",
       "      <td>I never understood the meaning laughter is th...</td>\n",
       "      <td>15.0</td>\n",
       "      <td>17.0</td>\n",
       "      <td>32.0</td>\n",
       "    </tr>\n",
       "    <tr>\n",
       "      <th>12975</th>\n",
       "      <td>21629</td>\n",
       "      <td>8</td>\n",
       "      <td>When you laugh, is @CAPS5 out of habit, or is ...</td>\n",
       "      <td>20.0</td>\n",
       "      <td>26.0</td>\n",
       "      <td>40.0</td>\n",
       "    </tr>\n",
       "    <tr>\n",
       "      <th>12976</th>\n",
       "      <td>21630</td>\n",
       "      <td>8</td>\n",
       "      <td>Trippin' on fen...</td>\n",
       "      <td>20.0</td>\n",
       "      <td>20.0</td>\n",
       "      <td>40.0</td>\n",
       "    </tr>\n",
       "    <tr>\n",
       "      <th>12977</th>\n",
       "      <td>21633</td>\n",
       "      <td>8</td>\n",
       "      <td>Many people believe that laughter can improve...</td>\n",
       "      <td>20.0</td>\n",
       "      <td>20.0</td>\n",
       "      <td>40.0</td>\n",
       "    </tr>\n",
       "  </tbody>\n",
       "</table>\n",
       "</div>"
      ],
      "text/plain": [
       "       essay_id  essay_set                                              essay  \\\n",
       "12973     21626          8   In most stories mothers and daughters are eit...   \n",
       "12974     21628          8   I never understood the meaning laughter is th...   \n",
       "12975     21629          8  When you laugh, is @CAPS5 out of habit, or is ...   \n",
       "12976     21630          8                                 Trippin' on fen...   \n",
       "12977     21633          8   Many people believe that laughter can improve...   \n",
       "\n",
       "       rater1_domain1  rater2_domain1  domain1_score  \n",
       "12973            17.0            18.0           35.0  \n",
       "12974            15.0            17.0           32.0  \n",
       "12975            20.0            26.0           40.0  \n",
       "12976            20.0            20.0           40.0  \n",
       "12977            20.0            20.0           40.0  "
      ]
     },
     "execution_count": 79,
     "metadata": {},
     "output_type": "execute_result"
    }
   ],
   "source": [
    "# Display the last five rows of the DataFrame `df`.\n",
    "df.tail()"
   ]
  },
  {
   "cell_type": "code",
   "execution_count": 13,
   "id": "532bc2c9-d1b4-4871-beae-fb53c5ef36c5",
   "metadata": {
    "tags": []
   },
   "outputs": [
    {
     "data": {
      "text/plain": [
       "essay_id            int64\n",
       "essay_set           int64\n",
       "essay              object\n",
       "rater1_domain1    float64\n",
       "rater2_domain1    float64\n",
       "domain1_score     float64\n",
       "dtype: object"
      ]
     },
     "execution_count": 13,
     "metadata": {},
     "output_type": "execute_result"
    }
   ],
   "source": [
    "# Display the data types of each column in the DataFrame `df`.\n",
    "df.dtypes"
   ]
  },
  {
   "cell_type": "code",
   "execution_count": 81,
   "id": "1dc0fc43-9c82-4a57-bc02-22bd08c37170",
   "metadata": {
    "tags": []
   },
   "outputs": [
    {
     "data": {
      "text/html": [
       "<div>\n",
       "<style scoped>\n",
       "    .dataframe tbody tr th:only-of-type {\n",
       "        vertical-align: middle;\n",
       "    }\n",
       "\n",
       "    .dataframe tbody tr th {\n",
       "        vertical-align: top;\n",
       "    }\n",
       "\n",
       "    .dataframe thead th {\n",
       "        text-align: right;\n",
       "    }\n",
       "</style>\n",
       "<table border=\"1\" class=\"dataframe\">\n",
       "  <thead>\n",
       "    <tr style=\"text-align: right;\">\n",
       "      <th></th>\n",
       "      <th>Null values</th>\n",
       "    </tr>\n",
       "  </thead>\n",
       "  <tbody>\n",
       "    <tr>\n",
       "      <th>essay_id</th>\n",
       "      <td>0</td>\n",
       "    </tr>\n",
       "    <tr>\n",
       "      <th>essay_set</th>\n",
       "      <td>0</td>\n",
       "    </tr>\n",
       "    <tr>\n",
       "      <th>essay</th>\n",
       "      <td>0</td>\n",
       "    </tr>\n",
       "    <tr>\n",
       "      <th>rater1_domain1</th>\n",
       "      <td>0</td>\n",
       "    </tr>\n",
       "    <tr>\n",
       "      <th>rater2_domain1</th>\n",
       "      <td>0</td>\n",
       "    </tr>\n",
       "    <tr>\n",
       "      <th>domain1_score</th>\n",
       "      <td>0</td>\n",
       "    </tr>\n",
       "  </tbody>\n",
       "</table>\n",
       "</div>"
      ],
      "text/plain": [
       "                Null values\n",
       "essay_id                  0\n",
       "essay_set                 0\n",
       "essay                     0\n",
       "rater1_domain1            0\n",
       "rater2_domain1            0\n",
       "domain1_score             0"
      ]
     },
     "execution_count": 81,
     "metadata": {},
     "output_type": "execute_result"
    }
   ],
   "source": [
    "# Counts the number of missing values (NaNs) in each column of the DataFrame `df` and displays a summary of the counts.\n",
    "df.isnull().sum().to_frame(\"Null values\")"
   ]
  },
  {
   "cell_type": "code",
   "execution_count": 18,
   "id": "0c4e0fa7-e540-4a73-ad06-7c6ae1048db7",
   "metadata": {
    "tags": []
   },
   "outputs": [
    {
     "data": {
      "text/plain": [
       "(12978, 6)"
      ]
     },
     "execution_count": 18,
     "metadata": {},
     "output_type": "execute_result"
    }
   ],
   "source": [
    "# Displays the dimensionality of the DataFrame `df`, including the number of rows and columns.   \n",
    "df.shape"
   ]
  },
  {
   "cell_type": "code",
   "execution_count": 15,
   "id": "b2f58e28-5036-4291-ae1f-a244ecb1068b",
   "metadata": {
    "tags": []
   },
   "outputs": [
    {
     "name": "stdout",
     "output_type": "stream",
     "text": [
      "<class 'pandas.core.frame.DataFrame'>\n",
      "RangeIndex: 12978 entries, 0 to 12977\n",
      "Data columns (total 6 columns):\n",
      " #   Column          Non-Null Count  Dtype  \n",
      "---  ------          --------------  -----  \n",
      " 0   essay_id        12978 non-null  int64  \n",
      " 1   essay_set       12978 non-null  int64  \n",
      " 2   essay           12978 non-null  object \n",
      " 3   rater1_domain1  12978 non-null  float64\n",
      " 4   rater2_domain1  12978 non-null  float64\n",
      " 5   domain1_score   12978 non-null  float64\n",
      "dtypes: float64(3), int64(2), object(1)\n",
      "memory usage: 608.5+ KB\n"
     ]
    }
   ],
   "source": [
    "# Provides a concise summary of the DataFrame `df`, including its structure, data types, memory usage, and non-null value counts.\n",
    "df.info()"
   ]
  },
  {
   "cell_type": "code",
   "execution_count": 16,
   "id": "44cf7ae1-b6f5-4541-9612-cc7c4234eb52",
   "metadata": {
    "tags": []
   },
   "outputs": [
    {
     "data": {
      "text/html": [
       "<div>\n",
       "<style scoped>\n",
       "    .dataframe tbody tr th:only-of-type {\n",
       "        vertical-align: middle;\n",
       "    }\n",
       "\n",
       "    .dataframe tbody tr th {\n",
       "        vertical-align: top;\n",
       "    }\n",
       "\n",
       "    .dataframe thead th {\n",
       "        text-align: right;\n",
       "    }\n",
       "</style>\n",
       "<table border=\"1\" class=\"dataframe\">\n",
       "  <thead>\n",
       "    <tr style=\"text-align: right;\">\n",
       "      <th></th>\n",
       "      <th>essay_id</th>\n",
       "      <th>essay_set</th>\n",
       "      <th>rater1_domain1</th>\n",
       "      <th>rater2_domain1</th>\n",
       "      <th>domain1_score</th>\n",
       "    </tr>\n",
       "  </thead>\n",
       "  <tbody>\n",
       "    <tr>\n",
       "      <th>count</th>\n",
       "      <td>12978.000000</td>\n",
       "      <td>12978.000000</td>\n",
       "      <td>12978.000000</td>\n",
       "      <td>12978.000000</td>\n",
       "      <td>12978.000000</td>\n",
       "    </tr>\n",
       "    <tr>\n",
       "      <th>mean</th>\n",
       "      <td>10295.432809</td>\n",
       "      <td>4.179458</td>\n",
       "      <td>4.126522</td>\n",
       "      <td>4.136770</td>\n",
       "      <td>6.799199</td>\n",
       "    </tr>\n",
       "    <tr>\n",
       "      <th>std</th>\n",
       "      <td>6308.588616</td>\n",
       "      <td>2.136749</td>\n",
       "      <td>4.212531</td>\n",
       "      <td>4.264311</td>\n",
       "      <td>8.970411</td>\n",
       "    </tr>\n",
       "    <tr>\n",
       "      <th>min</th>\n",
       "      <td>1.000000</td>\n",
       "      <td>1.000000</td>\n",
       "      <td>0.000000</td>\n",
       "      <td>0.000000</td>\n",
       "      <td>0.000000</td>\n",
       "    </tr>\n",
       "    <tr>\n",
       "      <th>25%</th>\n",
       "      <td>4439.250000</td>\n",
       "      <td>2.000000</td>\n",
       "      <td>2.000000</td>\n",
       "      <td>2.000000</td>\n",
       "      <td>2.000000</td>\n",
       "    </tr>\n",
       "    <tr>\n",
       "      <th>50%</th>\n",
       "      <td>10045.500000</td>\n",
       "      <td>4.000000</td>\n",
       "      <td>3.000000</td>\n",
       "      <td>3.000000</td>\n",
       "      <td>3.000000</td>\n",
       "    </tr>\n",
       "    <tr>\n",
       "      <th>75%</th>\n",
       "      <td>15680.750000</td>\n",
       "      <td>6.000000</td>\n",
       "      <td>4.000000</td>\n",
       "      <td>4.000000</td>\n",
       "      <td>8.000000</td>\n",
       "    </tr>\n",
       "    <tr>\n",
       "      <th>max</th>\n",
       "      <td>21633.000000</td>\n",
       "      <td>8.000000</td>\n",
       "      <td>30.000000</td>\n",
       "      <td>30.000000</td>\n",
       "      <td>60.000000</td>\n",
       "    </tr>\n",
       "  </tbody>\n",
       "</table>\n",
       "</div>"
      ],
      "text/plain": [
       "           essay_id     essay_set  rater1_domain1  rater2_domain1  \\\n",
       "count  12978.000000  12978.000000    12978.000000    12978.000000   \n",
       "mean   10295.432809      4.179458        4.126522        4.136770   \n",
       "std     6308.588616      2.136749        4.212531        4.264311   \n",
       "min        1.000000      1.000000        0.000000        0.000000   \n",
       "25%     4439.250000      2.000000        2.000000        2.000000   \n",
       "50%    10045.500000      4.000000        3.000000        3.000000   \n",
       "75%    15680.750000      6.000000        4.000000        4.000000   \n",
       "max    21633.000000      8.000000       30.000000       30.000000   \n",
       "\n",
       "       domain1_score  \n",
       "count   12978.000000  \n",
       "mean        6.799199  \n",
       "std         8.970411  \n",
       "min         0.000000  \n",
       "25%         2.000000  \n",
       "50%         3.000000  \n",
       "75%         8.000000  \n",
       "max        60.000000  "
      ]
     },
     "execution_count": 16,
     "metadata": {},
     "output_type": "execute_result"
    }
   ],
   "source": [
    "df.describe()"
   ]
  },
  {
   "cell_type": "code",
   "execution_count": 85,
   "id": "93af8ff3-8182-465b-af72-9ac637c928ac",
   "metadata": {
    "tags": []
   },
   "outputs": [
    {
     "data": {
      "text/plain": [
       "{1, 2, 3, 4, 5, 6, 7, 8}"
      ]
     },
     "execution_count": 85,
     "metadata": {},
     "output_type": "execute_result"
    }
   ],
   "source": [
    "# Provides a summary of the descriptive statistics of numerical columns in the DataFrame `df`, including measures of central tendency, dispersion, and the number of non-null values.\n",
    "set(df[\"essay_set\"])"
   ]
  },
  {
   "cell_type": "code",
   "execution_count": 86,
   "id": "9cc35677-49cb-4b00-8529-fa0f67e0e9d2",
   "metadata": {
    "tags": []
   },
   "outputs": [
    {
     "data": {
      "text/plain": [
       "{0.0,\n",
       " 1.0,\n",
       " 2.0,\n",
       " 3.0,\n",
       " 4.0,\n",
       " 5.0,\n",
       " 6.0,\n",
       " 7.0,\n",
       " 8.0,\n",
       " 9.0,\n",
       " 10.0,\n",
       " 11.0,\n",
       " 12.0,\n",
       " 13.0,\n",
       " 14.0,\n",
       " 15.0,\n",
       " 16.0,\n",
       " 17.0,\n",
       " 18.0,\n",
       " 19.0,\n",
       " 20.0,\n",
       " 21.0,\n",
       " 22.0,\n",
       " 23.0,\n",
       " 24.0,\n",
       " 25.0,\n",
       " 26.0,\n",
       " 27.0,\n",
       " 28.0,\n",
       " 29.0,\n",
       " 30.0,\n",
       " 31.0,\n",
       " 32.0,\n",
       " 33.0,\n",
       " 34.0,\n",
       " 35.0,\n",
       " 36.0,\n",
       " 37.0,\n",
       " 38.0,\n",
       " 39.0,\n",
       " 40.0,\n",
       " 41.0,\n",
       " 42.0,\n",
       " 43.0,\n",
       " 44.0,\n",
       " 45.0,\n",
       " 46.0,\n",
       " 47.0,\n",
       " 48.0,\n",
       " 49.0,\n",
       " 50.0,\n",
       " 55.0,\n",
       " 60.0}"
      ]
     },
     "execution_count": 86,
     "metadata": {},
     "output_type": "execute_result"
    }
   ],
   "source": [
    "# Provides a summary of the descriptive statistics of numerical columns in the DataFrame `df`, including measures of central tendency, dispersion, and the number of non-null values.\n",
    "set(df[\"domain1_score\"])"
   ]
  },
  {
   "cell_type": "code",
   "execution_count": 87,
   "id": "f14462c9-1e8a-498c-8b0f-62b0f6c6bba2",
   "metadata": {
    "tags": []
   },
   "outputs": [
    {
     "data": {
      "text/plain": [
       "domain1_score\n",
       "3.0     2830\n",
       "2.0     2445\n",
       "1.0     1736\n",
       "4.0     1424\n",
       "8.0      737\n",
       "0.0      420\n",
       "9.0      383\n",
       "10.0     372\n",
       "16.0     199\n",
       "11.0     165\n",
       "7.0      163\n",
       "40.0     161\n",
       "17.0     160\n",
       "6.0      137\n",
       "12.0     133\n",
       "18.0     118\n",
       "14.0     105\n",
       "20.0     103\n",
       "24.0      99\n",
       "5.0       96\n",
       "19.0      88\n",
       "15.0      86\n",
       "13.0      82\n",
       "21.0      70\n",
       "36.0      65\n",
       "22.0      63\n",
       "23.0      53\n",
       "30.0      49\n",
       "35.0      47\n",
       "37.0      39\n",
       "34.0      39\n",
       "32.0      37\n",
       "31.0      34\n",
       "33.0      32\n",
       "45.0      31\n",
       "42.0      23\n",
       "41.0      22\n",
       "38.0      20\n",
       "43.0      15\n",
       "44.0      14\n",
       "50.0      13\n",
       "46.0      13\n",
       "28.0      11\n",
       "39.0       8\n",
       "29.0       8\n",
       "47.0       7\n",
       "27.0       6\n",
       "25.0       5\n",
       "26.0       4\n",
       "48.0       3\n",
       "55.0       2\n",
       "49.0       2\n",
       "60.0       1\n",
       "Name: count, dtype: int64"
      ]
     },
     "execution_count": 87,
     "metadata": {},
     "output_type": "execute_result"
    }
   ],
   "source": [
    "# Displays the frequency distribution of the values in the `domain1_score` column of the DataFrame `df`.\n",
    "df[\"domain1_score\"].value_counts()"
   ]
  },
  {
   "cell_type": "code",
   "execution_count": 88,
   "id": "64052f69-80d1-49e8-8f4e-0b48922c34bf",
   "metadata": {
    "tags": []
   },
   "outputs": [
    {
     "data": {
      "text/plain": [
       "domain1_score\n",
       "3.0     21.81\n",
       "2.0     18.84\n",
       "1.0     13.38\n",
       "4.0     10.97\n",
       "8.0      5.68\n",
       "0.0      3.24\n",
       "9.0      2.95\n",
       "10.0     2.87\n",
       "16.0     1.53\n",
       "11.0     1.27\n",
       "7.0      1.26\n",
       "40.0     1.24\n",
       "17.0     1.23\n",
       "6.0      1.06\n",
       "12.0     1.02\n",
       "18.0     0.91\n",
       "14.0     0.81\n",
       "20.0     0.79\n",
       "24.0     0.76\n",
       "5.0      0.74\n",
       "19.0     0.68\n",
       "15.0     0.66\n",
       "13.0     0.63\n",
       "21.0     0.54\n",
       "36.0     0.50\n",
       "22.0     0.49\n",
       "23.0     0.41\n",
       "30.0     0.38\n",
       "35.0     0.36\n",
       "37.0     0.30\n",
       "34.0     0.30\n",
       "32.0     0.29\n",
       "31.0     0.26\n",
       "33.0     0.25\n",
       "45.0     0.24\n",
       "42.0     0.18\n",
       "41.0     0.17\n",
       "38.0     0.15\n",
       "43.0     0.12\n",
       "44.0     0.11\n",
       "50.0     0.10\n",
       "46.0     0.10\n",
       "28.0     0.08\n",
       "39.0     0.06\n",
       "29.0     0.06\n",
       "47.0     0.05\n",
       "27.0     0.05\n",
       "25.0     0.04\n",
       "26.0     0.03\n",
       "48.0     0.02\n",
       "55.0     0.02\n",
       "49.0     0.02\n",
       "60.0     0.01\n",
       "Name: proportion, dtype: float64"
      ]
     },
     "execution_count": 88,
     "metadata": {},
     "output_type": "execute_result"
    }
   ],
   "source": [
    "# Calculates the percentage of essays that received each score in the `domain1_score` column of the DataFrame `df` and rounds the results to two decimal places.\n",
    "round(df[\"domain1_score\"].value_counts(normalize=True) * 100, 2)"
   ]
  },
  {
   "cell_type": "code",
   "execution_count": 89,
   "id": "0a48f219-3b4e-4e4d-b1ad-0e4fef5e7dd4",
   "metadata": {
    "tags": []
   },
   "outputs": [
    {
     "data": {
      "image/png": "[encoded data removed]",
      "text/plain": [
       "<Figure size 700x500 with 1 Axes>"
      ]
     },
     "metadata": {},
     "output_type": "display_data"
    }
   ],
   "source": [
    "explode = [0.25, 0, 0, 0, 0, 0, 0, 0]\n",
    "\n",
    "# Creates a pie chart to visualize the distribution of essays across the different essay sets.\n",
    "\n",
    "df[\"essay_set\"].value_counts().plot.pie(figsize=(7, 5), autopct=\"%.2f%%\", shadow=True, frame=True, explode=explode).legend();"
   ]
  },
  {
   "cell_type": "code",
   "execution_count": 90,
   "id": "81345e13-711f-493a-acd2-31b0ff78b515",
   "metadata": {
    "tags": []
   },
   "outputs": [
    {
     "data": {
      "image/png": "[encoded data removed]",
      "text/plain": [
       "<Figure size 640x480 with 1 Axes>"
      ]
     },
     "metadata": {},
     "output_type": "display_data"
    }
   ],
   "source": [
    "# Creates a bar chart to visualize the average domain1_score of essays across different essay sets.\n",
    "sns.barplot(x=df[\"essay_set\"], y=df[\"domain1_score\"]);"
   ]
  },
  {
   "cell_type": "code",
   "execution_count": null,
   "id": "acf00f2a-0d53-4f04-9a43-3aeb8acaceb6",
   "metadata": {
    "tags": []
   },
   "outputs": [],
   "source": []
  },
  {
   "cell_type": "code",
   "execution_count": null,
   "id": "57650100-8f3f-45e4-bfb0-04b8f89cac03",
   "metadata": {
    "tags": []
   },
   "outputs": [],
   "source": []
  },
  {
   "cell_type": "code",
   "execution_count": null,
   "id": "79963e57-48da-41ad-ab67-3c0a9d9d0a3b",
   "metadata": {
    "tags": []
   },
   "outputs": [],
   "source": []
  },
  {
   "cell_type": "code",
   "execution_count": null,
   "id": "4958c014-398c-476f-bb61-0dbe599246a7",
   "metadata": {
    "tags": []
   },
   "outputs": [],
   "source": []
  },
  {
   "cell_type": "code",
   "execution_count": null,
   "id": "a5e8b293-c028-46f8-89da-d2864c461775",
   "metadata": {
    "tags": []
   },
   "outputs": [],
   "source": []
  },
  {
   "cell_type": "code",
   "execution_count": null,
   "id": "4ed6e3ec-5cb3-40b2-baa2-99cc8665501c",
   "metadata": {
    "tags": []
   },
   "outputs": [],
   "source": []
  },
  {
   "cell_type": "code",
   "execution_count": null,
   "id": "1851390a-f897-4baa-a0aa-877da6394805",
   "metadata": {
    "tags": []
   },
   "outputs": [],
   "source": []
  },
  {
   "cell_type": "code",
   "execution_count": null,
   "id": "847c8f6d-9a08-4d33-b7ad-293b6bfa71d2",
   "metadata": {
    "tags": []
   },
   "outputs": [],
   "source": []
  },
  {
   "cell_type": "code",
   "execution_count": null,
   "id": "4bb25a76-3afe-4d7b-b7c6-8fd65fd8788c",
   "metadata": {
    "tags": []
   },
   "outputs": [],
   "source": []
  },
  {
   "cell_type": "code",
   "execution_count": null,
   "id": "2f6e616e-325c-4c80-9434-bbddc60a34d2",
   "metadata": {
    "tags": []
   },
   "outputs": [],
   "source": []
  },
  {
   "cell_type": "code",
   "execution_count": null,
   "id": "6979fe89-f878-49bc-b8da-40ec61b57086",
   "metadata": {
    "tags": []
   },
   "outputs": [],
   "source": []
  },
  {
   "cell_type": "code",
   "execution_count": null,
   "id": "27c8261e-9d5f-4ee8-8eb3-6ab619081984",
   "metadata": {
    "tags": []
   },
   "outputs": [],
   "source": []
  },
  {
   "cell_type": "code",
   "execution_count": null,
   "id": "dd3d17a8-9393-4b53-9a78-f015aa135641",
   "metadata": {
    "tags": []
   },
   "outputs": [],
   "source": []
  },
  {
   "cell_type": "code",
   "execution_count": null,
   "id": "e4f9061f-3b40-417e-bbc7-0ab2d3e56202",
   "metadata": {
    "tags": []
   },
   "outputs": [],
   "source": []
  },
  {
   "cell_type": "code",
   "execution_count": null,
   "id": "bb664f73-7a6d-40b2-abef-914b50887ed3",
   "metadata": {},
   "outputs": [],
   "source": []
  },
  {
   "cell_type": "code",
   "execution_count": null,
   "id": "cc9129df-f08e-4e21-946f-fe584cf06752",
   "metadata": {
    "tags": []
   },
   "outputs": [],
   "source": []
  },
  {
   "cell_type": "code",
   "execution_count": null,
   "id": "d946a4ea-cd50-4afe-8404-61883281442e",
   "metadata": {},
   "outputs": [],
   "source": []
  },
  {
   "cell_type": "code",
   "execution_count": null,
   "id": "64a5820f-5fbc-4536-ae9e-0a9c5aaab397",
   "metadata": {},
   "outputs": [],
   "source": []
  },
  {
   "cell_type": "code",
   "execution_count": null,
   "id": "571df33f-63ce-4db4-bc6e-0a24cdefaf01",
   "metadata": {},
   "outputs": [],
   "source": []
  },
  {
   "cell_type": "code",
   "execution_count": null,
   "id": "f6bae2ca-1f7b-49e4-843e-1fe2ea3104c4",
   "metadata": {
    "tags": []
   },
   "outputs": [],
   "source": []
  },
  {
   "cell_type": "code",
   "execution_count": null,
   "id": "b6c53a33-d883-46fe-b8a6-638cdcd92e6c",
   "metadata": {
    "tags": []
   },
   "outputs": [],
   "source": []
  },
  {
   "cell_type": "code",
   "execution_count": null,
   "id": "10d2beb7-450a-4ced-aa6e-438b92d944b4",
   "metadata": {
    "tags": []
   },
   "outputs": [],
   "source": []
  },
  {
   "cell_type": "code",
   "execution_count": null,
   "id": "3d7bc414-91ae-421b-9471-16429d4744e4",
   "metadata": {
    "tags": []
   },
   "outputs": [],
   "source": []
  },
  {
   "cell_type": "code",
   "execution_count": null,
   "id": "d99705c1-25bb-4696-8690-c66a4bd506fa",
   "metadata": {
    "tags": []
   },
   "outputs": [],
   "source": []
  },
  {
   "cell_type": "code",
   "execution_count": null,
   "id": "6a6f53a8-436a-43ff-93f6-37be5ef68b2a",
   "metadata": {
    "tags": []
   },
   "outputs": [],
   "source": []
  },
  {
   "cell_type": "code",
   "execution_count": null,
   "id": "18db8eac-2a3c-4fff-b503-e670fd6f54ce",
   "metadata": {
    "tags": []
   },
   "outputs": [],
   "source": []
  },
  {
   "cell_type": "code",
   "execution_count": null,
   "id": "2c4e4c51-d2ee-45b9-8e8a-3c4de281df0b",
   "metadata": {},
   "outputs": [],
   "source": []
  },
  {
   "cell_type": "code",
   "execution_count": null,
   "id": "a42f7ab3-5301-4f58-b6ee-92b0cef58c8b",
   "metadata": {
    "tags": []
   },
   "outputs": [],
   "source": []
  },
  {
   "cell_type": "code",
   "execution_count": null,
   "id": "ce19a8d8-dae6-47ae-a010-06335a12b5c9",
   "metadata": {
    "tags": []
   },
   "outputs": [],
   "source": []
  },
  {
   "cell_type": "code",
   "execution_count": null,
   "id": "6490c9c3-03e5-4121-9ea1-6b474b4a1780",
   "metadata": {},
   "outputs": [],
   "source": []
  },
  {
   "cell_type": "code",
   "execution_count": null,
   "id": "5a0fb1bb-bf23-437a-89c7-16e97ba3fa21",
   "metadata": {},
   "outputs": [],
   "source": []
  },
  {
   "cell_type": "code",
   "execution_count": null,
   "id": "90c4593e-84aa-469f-b9d6-746b3b42a936",
   "metadata": {
    "tags": []
   },
   "outputs": [],
   "source": []
  },
  {
   "cell_type": "code",
   "execution_count": null,
   "id": "a016d590-857b-4e24-bc4a-7bfc994d48eb",
   "metadata": {
    "tags": []
   },
   "outputs": [],
   "source": []
  },
  {
   "cell_type": "code",
   "execution_count": null,
   "id": "0a388cd8-a5fb-4548-8edf-ae9fdedfea04",
   "metadata": {
    "tags": []
   },
   "outputs": [],
   "source": []
  },
  {
   "cell_type": "code",
   "execution_count": null,
   "id": "4dc40417-f13b-4bdf-8616-f387daf78046",
   "metadata": {
    "tags": []
   },
   "outputs": [],
   "source": []
  },
  {
   "cell_type": "code",
   "execution_count": null,
   "id": "b1fe1455-464d-4e3c-9afb-6316a588c6a6",
   "metadata": {
    "tags": []
   },
   "outputs": [],
   "source": []
  },
  {
   "cell_type": "code",
   "execution_count": null,
   "id": "c7a0c9aa-2af0-4d86-ba3f-80941115c221",
   "metadata": {
    "tags": []
   },
   "outputs": [],
   "source": []
  },
  {
   "cell_type": "code",
   "execution_count": null,
   "id": "5b746b6d-313e-48db-bb55-736a171629e8",
   "metadata": {
    "tags": []
   },
   "outputs": [],
   "source": []
  },
  {
   "cell_type": "code",
   "execution_count": null,
   "id": "b368881c-7ae7-4af2-9ba4-715a2d5b20b7",
   "metadata": {
    "tags": []
   },
   "outputs": [],
   "source": []
  },
  {
   "cell_type": "code",
   "execution_count": null,
   "id": "2d2d6bac-73eb-4a1d-b2aa-889e7c927ebe",
   "metadata": {
    "tags": []
   },
   "outputs": [],
   "source": []
  },
  {
   "cell_type": "code",
   "execution_count": null,
   "id": "dfb8dac5-7a2b-47da-9e88-ef4e5d3af9eb",
   "metadata": {},
   "outputs": [],
   "source": []
  }
 ],
 "metadata": {
  "kernelspec": {
   "display_name": "Python 3 (ipykernel)",
   "language": "python",
   "name": "python3"
  },
  "language_info": {
   "codemirror_mode": {
    "name": "ipython",
    "version": 3
   },
   "file_extension": ".py",
   "mimetype": "text/x-python",
   "name": "python",
   "nbconvert_exporter": "python",
   "pygments_lexer": "ipython3",
   "version": "3.11.5"
  },
  "widgets": {
   "application/vnd.jupyter.widget-state+json": {
    "state": {},
    "version_major": 2,
    "version_minor": 0
   }
  }
 },
 "nbformat": 4,
 "nbformat_minor": 5
}
