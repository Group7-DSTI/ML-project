{
 "cells": [
  {
   "cell_type": "code",
   "execution_count": 1,
   "id": "534447b9-04b5-48b6-85ec-b87aa88e7211",
   "metadata": {
    "tags": []
   },
   "outputs": [
    {
     "ename": "ModuleNotFoundError",
     "evalue": "No module named 'neattext'",
     "output_type": "error",
     "traceback": [
      "\u001b[1;31m---------------------------------------------------------------------------\u001b[0m",
      "\u001b[1;31mModuleNotFoundError\u001b[0m                       Traceback (most recent call last)",
      "Cell \u001b[1;32mIn[1], line 3\u001b[0m\n\u001b[0;32m      1\u001b[0m \u001b[38;5;28;01mimport\u001b[39;00m \u001b[38;5;21;01mnumpy\u001b[39;00m \u001b[38;5;28;01mas\u001b[39;00m \u001b[38;5;21;01mnp\u001b[39;00m\n\u001b[0;32m      2\u001b[0m \u001b[38;5;28;01mimport\u001b[39;00m \u001b[38;5;21;01mpandas\u001b[39;00m \u001b[38;5;28;01mas\u001b[39;00m \u001b[38;5;21;01mpd\u001b[39;00m\n\u001b[1;32m----> 3\u001b[0m \u001b[38;5;28;01mimport\u001b[39;00m \u001b[38;5;21;01mneattext\u001b[39;00m \u001b[38;5;28;01mas\u001b[39;00m \u001b[38;5;21;01mnt\u001b[39;00m\n\u001b[0;32m      4\u001b[0m \u001b[38;5;28;01mimport\u001b[39;00m \u001b[38;5;21;01mtexthero\u001b[39;00m \u001b[38;5;28;01mas\u001b[39;00m \u001b[38;5;21;01mhero\u001b[39;00m\n",
      "\u001b[1;31mModuleNotFoundError\u001b[0m: No module named 'neattext'"
     ]
    }
   ],
   "source": [
    "import numpy as np\n",
    "import pandas as pd\n",
    "import neattext as nt\n",
    "import texthero as hero"
   ]
  },
  {
   "cell_type": "code",
   "execution_count": 40,
   "id": "4024bbd4-a79f-4722-8f31-7a84c877ea04",
   "metadata": {
    "tags": []
   },
   "outputs": [
    {
     "name": "stdout",
     "output_type": "stream",
     "text": [
      "Échec de la lecture avec l'encodage : utf-8\n",
      "Le fichier a été lu avec succès avec l'encodage : latin-1\n"
     ]
    }
   ],
   "source": [
    "# Essayer différents encodages jusqu'à ce que le fichier soit lu correctement\n",
    "encodings = ['utf-8', 'latin-1', 'iso-8859-1']\n",
    "\n",
    "for encoding in encodings:\n",
    "    try:\n",
    "        # Charger le fichier TSV dans un DataFrame\n",
    "        df = pd.read_csv('test_set.tsv', sep='\\t', encoding=encoding)\n",
    "\n",
    "        # Enregistrer le DataFrame dans un fichier CSV\n",
    "        df.to_csv('test_set.csv', index=False)\n",
    "\n",
    "        print(f\"Le fichier a été lu avec succès avec l'encodage : {encoding}\")\n",
    "        break  # Sortir de la boucle si la lecture réussit\n",
    "\n",
    "    except UnicodeDecodeError:\n",
    "        print(f\"Échec de la lecture avec l'encodage : {encoding}\")"
   ]
  },
  {
   "cell_type": "code",
   "execution_count": 41,
   "id": "251ac0d1-6be0-4a7e-8454-4e5a57c1cbd6",
   "metadata": {
    "tags": []
   },
   "outputs": [],
   "source": [
    "data = pd.read_csv(\"test_set.csv\")"
   ]
  },
  {
   "cell_type": "markdown",
   "id": "f9dacffe-d558-4a52-ad7f-418f2c7fb1d1",
   "metadata": {},
   "source": [
    "### Exploratory Data Analysis (EDA)"
   ]
  },
  {
   "cell_type": "code",
   "execution_count": 42,
   "id": "6a017fd1-e727-422d-9662-3ce6ce7fe8a7",
   "metadata": {
    "tags": []
   },
   "outputs": [
    {
     "data": {
      "text/html": [
       "<div>\n",
       "<style scoped>\n",
       "    .dataframe tbody tr th:only-of-type {\n",
       "        vertical-align: middle;\n",
       "    }\n",
       "\n",
       "    .dataframe tbody tr th {\n",
       "        vertical-align: top;\n",
       "    }\n",
       "\n",
       "    .dataframe thead th {\n",
       "        text-align: right;\n",
       "    }\n",
       "</style>\n",
       "<table border=\"1\" class=\"dataframe\">\n",
       "  <thead>\n",
       "    <tr style=\"text-align: right;\">\n",
       "      <th></th>\n",
       "      <th>essay_id</th>\n",
       "      <th>essay_set</th>\n",
       "      <th>essay</th>\n",
       "      <th>domain1_predictionid</th>\n",
       "      <th>domain2_predictionid</th>\n",
       "    </tr>\n",
       "  </thead>\n",
       "  <tbody>\n",
       "    <tr>\n",
       "      <th>0</th>\n",
       "      <td>2383</td>\n",
       "      <td>1</td>\n",
       "      <td>I believe that computers have a positive effec...</td>\n",
       "      <td>2383</td>\n",
       "      <td>NaN</td>\n",
       "    </tr>\n",
       "    <tr>\n",
       "      <th>1</th>\n",
       "      <td>2384</td>\n",
       "      <td>1</td>\n",
       "      <td>Dear @CAPS1, I know some problems have came up...</td>\n",
       "      <td>2384</td>\n",
       "      <td>NaN</td>\n",
       "    </tr>\n",
       "    <tr>\n",
       "      <th>2</th>\n",
       "      <td>2385</td>\n",
       "      <td>1</td>\n",
       "      <td>Dear to whom it @MONTH1 concern, Computers are...</td>\n",
       "      <td>2385</td>\n",
       "      <td>NaN</td>\n",
       "    </tr>\n",
       "    <tr>\n",
       "      <th>3</th>\n",
       "      <td>2386</td>\n",
       "      <td>1</td>\n",
       "      <td>Dear @CAPS1 @CAPS2, @CAPS3 has come to my atte...</td>\n",
       "      <td>2386</td>\n",
       "      <td>NaN</td>\n",
       "    </tr>\n",
       "    <tr>\n",
       "      <th>4</th>\n",
       "      <td>2387</td>\n",
       "      <td>1</td>\n",
       "      <td>Dear Local newspaper, I think that people have...</td>\n",
       "      <td>2387</td>\n",
       "      <td>NaN</td>\n",
       "    </tr>\n",
       "  </tbody>\n",
       "</table>\n",
       "</div>"
      ],
      "text/plain": [
       "   essay_id  essay_set                                              essay  \\\n",
       "0      2383          1  I believe that computers have a positive effec...   \n",
       "1      2384          1  Dear @CAPS1, I know some problems have came up...   \n",
       "2      2385          1  Dear to whom it @MONTH1 concern, Computers are...   \n",
       "3      2386          1  Dear @CAPS1 @CAPS2, @CAPS3 has come to my atte...   \n",
       "4      2387          1  Dear Local newspaper, I think that people have...   \n",
       "\n",
       "   domain1_predictionid  domain2_predictionid  \n",
       "0                  2383                   NaN  \n",
       "1                  2384                   NaN  \n",
       "2                  2385                   NaN  \n",
       "3                  2386                   NaN  \n",
       "4                  2387                   NaN  "
      ]
     },
     "execution_count": 42,
     "metadata": {},
     "output_type": "execute_result"
    }
   ],
   "source": [
    "data.head()"
   ]
  },
  {
   "cell_type": "code",
   "execution_count": 43,
   "id": "dfe63734-9aef-431d-8723-78dd612f0876",
   "metadata": {
    "tags": []
   },
   "outputs": [
    {
     "data": {
      "text/html": [
       "<div>\n",
       "<style scoped>\n",
       "    .dataframe tbody tr th:only-of-type {\n",
       "        vertical-align: middle;\n",
       "    }\n",
       "\n",
       "    .dataframe tbody tr th {\n",
       "        vertical-align: top;\n",
       "    }\n",
       "\n",
       "    .dataframe thead th {\n",
       "        text-align: right;\n",
       "    }\n",
       "</style>\n",
       "<table border=\"1\" class=\"dataframe\">\n",
       "  <thead>\n",
       "    <tr style=\"text-align: right;\">\n",
       "      <th></th>\n",
       "      <th>essay_id</th>\n",
       "      <th>essay_set</th>\n",
       "      <th>essay</th>\n",
       "      <th>domain1_predictionid</th>\n",
       "      <th>domain2_predictionid</th>\n",
       "    </tr>\n",
       "  </thead>\n",
       "  <tbody>\n",
       "    <tr>\n",
       "      <th>4249</th>\n",
       "      <td>22238</td>\n",
       "      <td>8</td>\n",
       "      <td>Just One @CAPS1 @CAPS2 can bring people togeth...</td>\n",
       "      <td>25238</td>\n",
       "      <td>NaN</td>\n",
       "    </tr>\n",
       "    <tr>\n",
       "      <th>4250</th>\n",
       "      <td>22239</td>\n",
       "      <td>8</td>\n",
       "      <td>@CAPS8 Was my first time going to the band ca...</td>\n",
       "      <td>25239</td>\n",
       "      <td>NaN</td>\n",
       "    </tr>\n",
       "    <tr>\n",
       "      <th>4251</th>\n",
       "      <td>22240</td>\n",
       "      <td>8</td>\n",
       "      <td>Laughter is one of the most important things i...</td>\n",
       "      <td>25240</td>\n",
       "      <td>NaN</td>\n",
       "    </tr>\n",
       "    <tr>\n",
       "      <th>4252</th>\n",
       "      <td>22241</td>\n",
       "      <td>8</td>\n",
       "      <td>A @CAPS1 Of @C...</td>\n",
       "      <td>25241</td>\n",
       "      <td>NaN</td>\n",
       "    </tr>\n",
       "    <tr>\n",
       "      <th>4253</th>\n",
       "      <td>22242</td>\n",
       "      <td>8</td>\n",
       "      <td>Good @CAPS1 In @LOCATION1.  Every year a sel...</td>\n",
       "      <td>25242</td>\n",
       "      <td>NaN</td>\n",
       "    </tr>\n",
       "  </tbody>\n",
       "</table>\n",
       "</div>"
      ],
      "text/plain": [
       "      essay_id  essay_set                                              essay  \\\n",
       "4249     22238          8  Just One @CAPS1 @CAPS2 can bring people togeth...   \n",
       "4250     22239          8   @CAPS8 Was my first time going to the band ca...   \n",
       "4251     22240          8  Laughter is one of the most important things i...   \n",
       "4252     22241          8                                  A @CAPS1 Of @C...   \n",
       "4253     22242          8    Good @CAPS1 In @LOCATION1.  Every year a sel...   \n",
       "\n",
       "      domain1_predictionid  domain2_predictionid  \n",
       "4249                 25238                   NaN  \n",
       "4250                 25239                   NaN  \n",
       "4251                 25240                   NaN  \n",
       "4252                 25241                   NaN  \n",
       "4253                 25242                   NaN  "
      ]
     },
     "execution_count": 43,
     "metadata": {},
     "output_type": "execute_result"
    }
   ],
   "source": [
    "data.tail()"
   ]
  },
  {
   "cell_type": "code",
   "execution_count": 44,
   "id": "532bc2c9-d1b4-4871-beae-fb53c5ef36c5",
   "metadata": {
    "tags": []
   },
   "outputs": [
    {
     "data": {
      "text/plain": [
       "essay_id                  int64\n",
       "essay_set                 int64\n",
       "essay                    object\n",
       "domain1_predictionid      int64\n",
       "domain2_predictionid    float64\n",
       "dtype: object"
      ]
     },
     "execution_count": 44,
     "metadata": {},
     "output_type": "execute_result"
    }
   ],
   "source": [
    "data.dtypes"
   ]
  },
  {
   "cell_type": "code",
   "execution_count": 45,
   "id": "1dc0fc43-9c82-4a57-bc02-22bd08c37170",
   "metadata": {
    "tags": []
   },
   "outputs": [
    {
     "data": {
      "text/html": [
       "<div>\n",
       "<style scoped>\n",
       "    .dataframe tbody tr th:only-of-type {\n",
       "        vertical-align: middle;\n",
       "    }\n",
       "\n",
       "    .dataframe tbody tr th {\n",
       "        vertical-align: top;\n",
       "    }\n",
       "\n",
       "    .dataframe thead th {\n",
       "        text-align: right;\n",
       "    }\n",
       "</style>\n",
       "<table border=\"1\" class=\"dataframe\">\n",
       "  <thead>\n",
       "    <tr style=\"text-align: right;\">\n",
       "      <th></th>\n",
       "      <th>Null values</th>\n",
       "    </tr>\n",
       "  </thead>\n",
       "  <tbody>\n",
       "    <tr>\n",
       "      <th>essay_id</th>\n",
       "      <td>0</td>\n",
       "    </tr>\n",
       "    <tr>\n",
       "      <th>essay_set</th>\n",
       "      <td>0</td>\n",
       "    </tr>\n",
       "    <tr>\n",
       "      <th>essay</th>\n",
       "      <td>0</td>\n",
       "    </tr>\n",
       "    <tr>\n",
       "      <th>domain1_predictionid</th>\n",
       "      <td>0</td>\n",
       "    </tr>\n",
       "    <tr>\n",
       "      <th>domain2_predictionid</th>\n",
       "      <td>3654</td>\n",
       "    </tr>\n",
       "  </tbody>\n",
       "</table>\n",
       "</div>"
      ],
      "text/plain": [
       "                      Null values\n",
       "essay_id                        0\n",
       "essay_set                       0\n",
       "essay                           0\n",
       "domain1_predictionid            0\n",
       "domain2_predictionid         3654"
      ]
     },
     "execution_count": 45,
     "metadata": {},
     "output_type": "execute_result"
    }
   ],
   "source": [
    "data.isnull().sum().to_frame(\"Null values\")"
   ]
  },
  {
   "cell_type": "code",
   "execution_count": 46,
   "id": "0c4e0fa7-e540-4a73-ad06-7c6ae1048db7",
   "metadata": {
    "tags": []
   },
   "outputs": [
    {
     "data": {
      "text/plain": [
       "(4254, 5)"
      ]
     },
     "execution_count": 46,
     "metadata": {},
     "output_type": "execute_result"
    }
   ],
   "source": [
    "data.shape"
   ]
  },
  {
   "cell_type": "code",
   "execution_count": 47,
   "id": "ca35ff38-ba59-4102-b56d-f62c1fcd7885",
   "metadata": {
    "tags": []
   },
   "outputs": [
    {
     "data": {
      "text/plain": [
       "600"
      ]
     },
     "execution_count": 47,
     "metadata": {},
     "output_type": "execute_result"
    }
   ],
   "source": [
    "domain2_predictionid_null_values = 4254 - data[\"domain2_predictionid\"].isnull().sum()\n",
    "domain2_predictionid_null_values"
   ]
  },
  {
   "cell_type": "code",
   "execution_count": 48,
   "id": "d62d0f4b-1ed6-49d6-a334-585423a28030",
   "metadata": {
    "tags": []
   },
   "outputs": [],
   "source": [
    "data.drop(\"domain2_predictionid\", axis=1, inplace=True)"
   ]
  },
  {
   "cell_type": "code",
   "execution_count": 49,
   "id": "c2dac3c7-dee8-456c-83d5-fb161daabc42",
   "metadata": {
    "tags": []
   },
   "outputs": [
    {
     "data": {
      "text/html": [
       "<div>\n",
       "<style scoped>\n",
       "    .dataframe tbody tr th:only-of-type {\n",
       "        vertical-align: middle;\n",
       "    }\n",
       "\n",
       "    .dataframe tbody tr th {\n",
       "        vertical-align: top;\n",
       "    }\n",
       "\n",
       "    .dataframe thead th {\n",
       "        text-align: right;\n",
       "    }\n",
       "</style>\n",
       "<table border=\"1\" class=\"dataframe\">\n",
       "  <thead>\n",
       "    <tr style=\"text-align: right;\">\n",
       "      <th></th>\n",
       "      <th>essay_id</th>\n",
       "      <th>essay_set</th>\n",
       "      <th>essay</th>\n",
       "      <th>domain1_predictionid</th>\n",
       "    </tr>\n",
       "  </thead>\n",
       "  <tbody>\n",
       "    <tr>\n",
       "      <th>0</th>\n",
       "      <td>2383</td>\n",
       "      <td>1</td>\n",
       "      <td>I believe that computers have a positive effec...</td>\n",
       "      <td>2383</td>\n",
       "    </tr>\n",
       "    <tr>\n",
       "      <th>1</th>\n",
       "      <td>2384</td>\n",
       "      <td>1</td>\n",
       "      <td>Dear @CAPS1, I know some problems have came up...</td>\n",
       "      <td>2384</td>\n",
       "    </tr>\n",
       "    <tr>\n",
       "      <th>2</th>\n",
       "      <td>2385</td>\n",
       "      <td>1</td>\n",
       "      <td>Dear to whom it @MONTH1 concern, Computers are...</td>\n",
       "      <td>2385</td>\n",
       "    </tr>\n",
       "    <tr>\n",
       "      <th>3</th>\n",
       "      <td>2386</td>\n",
       "      <td>1</td>\n",
       "      <td>Dear @CAPS1 @CAPS2, @CAPS3 has come to my atte...</td>\n",
       "      <td>2386</td>\n",
       "    </tr>\n",
       "    <tr>\n",
       "      <th>4</th>\n",
       "      <td>2387</td>\n",
       "      <td>1</td>\n",
       "      <td>Dear Local newspaper, I think that people have...</td>\n",
       "      <td>2387</td>\n",
       "    </tr>\n",
       "  </tbody>\n",
       "</table>\n",
       "</div>"
      ],
      "text/plain": [
       "   essay_id  essay_set                                              essay  \\\n",
       "0      2383          1  I believe that computers have a positive effec...   \n",
       "1      2384          1  Dear @CAPS1, I know some problems have came up...   \n",
       "2      2385          1  Dear to whom it @MONTH1 concern, Computers are...   \n",
       "3      2386          1  Dear @CAPS1 @CAPS2, @CAPS3 has come to my atte...   \n",
       "4      2387          1  Dear Local newspaper, I think that people have...   \n",
       "\n",
       "   domain1_predictionid  \n",
       "0                  2383  \n",
       "1                  2384  \n",
       "2                  2385  \n",
       "3                  2386  \n",
       "4                  2387  "
      ]
     },
     "execution_count": 49,
     "metadata": {},
     "output_type": "execute_result"
    }
   ],
   "source": [
    "data.head()"
   ]
  },
  {
   "cell_type": "code",
   "execution_count": 50,
   "id": "b2f58e28-5036-4291-ae1f-a244ecb1068b",
   "metadata": {
    "tags": []
   },
   "outputs": [
    {
     "data": {
      "text/plain": [
       "Index(['essay_id', 'essay_set', 'essay', 'domain1_predictionid'], dtype='object')"
      ]
     },
     "execution_count": 50,
     "metadata": {},
     "output_type": "execute_result"
    }
   ],
   "source": [
    "data.columns"
   ]
  },
  {
   "cell_type": "code",
   "execution_count": 51,
   "id": "90c4593e-84aa-469f-b9d6-746b3b42a936",
   "metadata": {
    "tags": []
   },
   "outputs": [
    {
     "name": "stdout",
     "output_type": "stream",
     "text": [
      "Key      Value          \n",
      "Length  : 1333           \n",
      "vowels  : 144            \n",
      "consonants: 231            \n",
      "stopwords: 33             \n",
      "punctuations: 71             \n",
      "special_char: 71             \n",
      "tokens(whitespace): 147            \n",
      "tokens(words): 142            \n"
     ]
    }
   ],
   "source": [
    "text_data = nt.TextFrame(str(data))\n",
    "text_data.describe()"
   ]
  },
  {
   "cell_type": "code",
   "execution_count": 52,
   "id": "a016d590-857b-4e24-bc4a-7bfc994d48eb",
   "metadata": {
    "tags": []
   },
   "outputs": [
    {
     "data": {
      "text/plain": [
       "Counter({'1': 7,\n",
       "         'CAPS1': 5,\n",
       "         '8': 5,\n",
       "         'Dear': 4,\n",
       "         'I': 3,\n",
       "         'have': 3,\n",
       "         'to': 3,\n",
       "         '4': 3,\n",
       "         '0': 2,\n",
       "         '2383': 2,\n",
       "         'that': 2,\n",
       "         'a': 2,\n",
       "         '2384': 2,\n",
       "         '2': 2,\n",
       "         '2385': 2,\n",
       "         '3': 2,\n",
       "         '2386': 2,\n",
       "         'CAPS2': 2,\n",
       "         'my': 2,\n",
       "         '2387': 2,\n",
       "         'people': 2,\n",
       "         '4249': 2,\n",
       "         '4250': 2,\n",
       "         'the': 2,\n",
       "         '4251': 2,\n",
       "         '4252': 2,\n",
       "         '4253': 2,\n",
       "         'essay_id': 1,\n",
       "         'essay_set': 1,\n",
       "         'essay': 1,\n",
       "         'believe': 1,\n",
       "         'computers': 1,\n",
       "         'positive': 1,\n",
       "         'effec': 1,\n",
       "         'know': 1,\n",
       "         'some': 1,\n",
       "         'problems': 1,\n",
       "         'came': 1,\n",
       "         'up': 1,\n",
       "         'whom': 1,\n",
       "         'it': 1,\n",
       "         'MONTH1': 1,\n",
       "         'concern': 1,\n",
       "         'Computers': 1,\n",
       "         'are': 1,\n",
       "         'CAPS3': 1,\n",
       "         'has': 1,\n",
       "         'come': 1,\n",
       "         'atte': 1,\n",
       "         'Local': 1,\n",
       "         'newspaper': 1,\n",
       "         'think': 1,\n",
       "         '22238': 1,\n",
       "         'Just': 1,\n",
       "         'One': 1,\n",
       "         'can': 1,\n",
       "         'bring': 1,\n",
       "         'togeth': 1,\n",
       "         '22239': 1,\n",
       "         'CAPS8': 1,\n",
       "         'Was': 1,\n",
       "         'first': 1,\n",
       "         'time': 1,\n",
       "         'going': 1,\n",
       "         'band': 1,\n",
       "         'ca': 1,\n",
       "         '22240': 1,\n",
       "         'Laughter': 1,\n",
       "         'is': 1,\n",
       "         'one': 1,\n",
       "         'of': 1,\n",
       "         'most': 1,\n",
       "         'important': 1,\n",
       "         'things': 1,\n",
       "         'i': 1,\n",
       "         '22241': 1,\n",
       "         'A': 1,\n",
       "         'Of': 1,\n",
       "         'C': 1,\n",
       "         '22242': 1,\n",
       "         'Good': 1,\n",
       "         'In': 1,\n",
       "         'LOCATION1': 1,\n",
       "         'Every': 1,\n",
       "         'year': 1,\n",
       "         'sel': 1,\n",
       "         'domain1_predictionid': 1,\n",
       "         '25238': 1,\n",
       "         '25239': 1,\n",
       "         '25240': 1,\n",
       "         '25241': 1,\n",
       "         '25242': 1,\n",
       "         '4254': 1,\n",
       "         'rows': 1,\n",
       "         'x': 1,\n",
       "         'columns': 1})"
      ]
     },
     "execution_count": 52,
     "metadata": {},
     "output_type": "execute_result"
    }
   ],
   "source": [
    "text_data.bow()"
   ]
  },
  {
   "cell_type": "code",
   "execution_count": 53,
   "id": "0a388cd8-a5fb-4548-8edf-ae9fdedfea04",
   "metadata": {
    "tags": []
   },
   "outputs": [
    {
     "data": {
      "text/plain": [
       "{'memory': 1382, 'human_readable': '1.35 KB'}"
      ]
     },
     "execution_count": 53,
     "metadata": {},
     "output_type": "execute_result"
    }
   ],
   "source": [
    "text_data.memory_usage()"
   ]
  },
  {
   "cell_type": "code",
   "execution_count": 54,
   "id": "4dc40417-f13b-4bdf-8616-f387daf78046",
   "metadata": {
    "tags": []
   },
   "outputs": [
    {
     "data": {
      "text/plain": [
       "{'Length of Text': 1333,\n",
       " 'Num of Vowels': 144,\n",
       " 'Num of Consonants': 231,\n",
       " 'Num of Stopwords': 33,\n",
       " 'Stats of Vowels': {'a': 39, 'e': 44, 'i': 23, 'o': 32, 'u': 6},\n",
       " 'Stats of Consonants': {'b': 4,\n",
       "  'c': 23,\n",
       "  'd': 10,\n",
       "  'f': 5,\n",
       "  'g': 7,\n",
       "  'h': 14,\n",
       "  'j': 1,\n",
       "  'k': 2,\n",
       "  'l': 10,\n",
       "  'm': 15,\n",
       "  'n': 19,\n",
       "  'p': 22,\n",
       "  'q': 0,\n",
       "  'r': 18,\n",
       "  's': 32,\n",
       "  't': 30,\n",
       "  'v': 6,\n",
       "  'w': 5,\n",
       "  'x': 1,\n",
       "  'y': 7,\n",
       "  'z': 0}}"
      ]
     },
     "execution_count": 54,
     "metadata": {},
     "output_type": "execute_result"
    }
   ],
   "source": [
    "text_data.word_stats()"
   ]
  },
  {
   "cell_type": "code",
   "execution_count": 55,
   "id": "b1fe1455-464d-4e3c-9afb-6316a588c6a6",
   "metadata": {
    "tags": []
   },
   "outputs": [
    {
     "data": {
      "text/plain": [
       "{'essay_id': 0.14285714285714285,\n",
       " 'essay_set': 0.14285714285714285,\n",
       " 'essay': 0.14285714285714285,\n",
       " '\\\\': 0.14285714285714285,\n",
       " '0': 0.2857142857142857,\n",
       " '2383': 0.2857142857142857,\n",
       " '1': 1.0,\n",
       " 'I': 0.42857142857142855,\n",
       " 'believe': 0.14285714285714285,\n",
       " 'computers': 0.14285714285714285,\n",
       " 'positive': 0.14285714285714285,\n",
       " 'effec...': 0.14285714285714285,\n",
       " '2384': 0.2857142857142857,\n",
       " 'Dear': 0.5714285714285714,\n",
       " '@CAPS1,': 0.14285714285714285,\n",
       " 'know': 0.14285714285714285,\n",
       " 'problems': 0.14285714285714285,\n",
       " 'came': 0.14285714285714285,\n",
       " 'up...': 0.14285714285714285,\n",
       " '2': 0.2857142857142857,\n",
       " '2385': 0.2857142857142857,\n",
       " '@MONTH1': 0.14285714285714285,\n",
       " 'concern,': 0.14285714285714285,\n",
       " 'Computers': 0.14285714285714285,\n",
       " 'are...': 0.14285714285714285,\n",
       " '3': 0.2857142857142857,\n",
       " '2386': 0.2857142857142857,\n",
       " '@CAPS1': 0.5714285714285714,\n",
       " '@CAPS2,': 0.14285714285714285,\n",
       " '@CAPS3': 0.14285714285714285,\n",
       " 'come': 0.14285714285714285,\n",
       " 'atte...': 0.14285714285714285,\n",
       " '4': 0.42857142857142855,\n",
       " '2387': 0.2857142857142857,\n",
       " 'Local': 0.14285714285714285,\n",
       " 'newspaper,': 0.14285714285714285,\n",
       " 'think': 0.14285714285714285,\n",
       " 'people': 0.2857142857142857,\n",
       " 'have...': 0.14285714285714285,\n",
       " '...': 0.8571428571428571,\n",
       " '4249': 0.2857142857142857,\n",
       " '22238': 0.14285714285714285,\n",
       " '8': 0.7142857142857143,\n",
       " 'Just': 0.14285714285714285,\n",
       " 'One': 0.14285714285714285,\n",
       " '@CAPS2': 0.14285714285714285,\n",
       " 'bring': 0.14285714285714285,\n",
       " 'togeth...': 0.14285714285714285,\n",
       " '4250': 0.2857142857142857,\n",
       " '22239': 0.14285714285714285,\n",
       " '@CAPS8': 0.14285714285714285,\n",
       " 'Was': 0.14285714285714285,\n",
       " 'time': 0.14285714285714285,\n",
       " 'going': 0.14285714285714285,\n",
       " 'band': 0.14285714285714285,\n",
       " 'ca...': 0.14285714285714285,\n",
       " '4251': 0.2857142857142857,\n",
       " '22240': 0.14285714285714285,\n",
       " 'Laughter': 0.14285714285714285,\n",
       " 'important': 0.14285714285714285,\n",
       " 'things': 0.14285714285714285,\n",
       " 'i...': 0.14285714285714285,\n",
       " '4252': 0.2857142857142857,\n",
       " '22241': 0.14285714285714285,\n",
       " 'A': 0.14285714285714285,\n",
       " 'Of': 0.14285714285714285,\n",
       " '@C...': 0.14285714285714285,\n",
       " '4253': 0.2857142857142857,\n",
       " '22242': 0.14285714285714285,\n",
       " 'Good': 0.14285714285714285,\n",
       " 'In': 0.14285714285714285,\n",
       " '@LOCATION1.': 0.14285714285714285,\n",
       " 'Every': 0.14285714285714285,\n",
       " 'year': 0.14285714285714285,\n",
       " 'sel...': 0.14285714285714285,\n",
       " 'domain1_predictionid': 0.14285714285714285,\n",
       " '25238': 0.14285714285714285,\n",
       " '25239': 0.14285714285714285,\n",
       " '25240': 0.14285714285714285,\n",
       " '25241': 0.14285714285714285,\n",
       " '25242': 0.14285714285714285,\n",
       " '[4254': 0.14285714285714285,\n",
       " 'rows': 0.14285714285714285,\n",
       " 'x': 0.14285714285714285,\n",
       " 'columns]': 0.14285714285714285}"
      ]
     },
     "execution_count": 55,
     "metadata": {},
     "output_type": "execute_result"
    }
   ],
   "source": [
    "text_data.term_freq()"
   ]
  },
  {
   "cell_type": "code",
   "execution_count": 56,
   "id": "c7a0c9aa-2af0-4d86-ba3f-80941115c221",
   "metadata": {
    "tags": []
   },
   "outputs": [
    {
     "data": {
      "text/plain": [
       "'      essayid  essayset                                              essay             i believe that computers have a positive effec     dear caps i know some problems have came up     dear to whom it month concern computers are     dear caps caps caps has come to my atte     dear local newspaper i think that people have                                                                        just one caps caps can bring people togeth      caps was my first time going to the band ca     laughter is one of the most important things i                                     a caps of c       good caps in location  every year a sel         domainpredictionid                                                                  rows x  columns'"
      ]
     },
     "execution_count": 56,
     "metadata": {},
     "output_type": "execute_result"
    }
   ],
   "source": [
    "data_clean = text_data.clean_text()\n",
    "data_clean"
   ]
  },
  {
   "cell_type": "code",
   "execution_count": 57,
   "id": "5b746b6d-313e-48db-bb55-736a171629e8",
   "metadata": {
    "tags": []
   },
   "outputs": [
    {
     "data": {
      "text/plain": [
       "0          essayid  essayset                       ...\n",
       "dtype: object"
      ]
     },
     "execution_count": 57,
     "metadata": {},
     "output_type": "execute_result"
    }
   ],
   "source": [
    "data_c = pd.Series(data_clean)\n",
    "data_c"
   ]
  },
  {
   "cell_type": "code",
   "execution_count": 61,
   "id": "b368881c-7ae7-4af2-9ba4-715a2d5b20b7",
   "metadata": {
    "tags": []
   },
   "outputs": [],
   "source": [
    "data_c_to_numeric = hero.tfidf(data_c)"
   ]
  },
  {
   "cell_type": "code",
   "execution_count": 62,
   "id": "2d2d6bac-73eb-4a1d-b2aa-889e7c927ebe",
   "metadata": {
    "tags": []
   },
   "outputs": [
    {
     "data": {
      "text/plain": [
       "0    [0.2041241452319315, 0.06804138174397717, 0.06...\n",
       "dtype: object"
      ]
     },
     "execution_count": 62,
     "metadata": {},
     "output_type": "execute_result"
    }
   ],
   "source": [
    "data_c_to_numeric"
   ]
  },
  {
   "cell_type": "code",
   "execution_count": null,
   "id": "dfb8dac5-7a2b-47da-9e88-ef4e5d3af9eb",
   "metadata": {},
   "outputs": [],
   "source": []
  }
 ],
 "metadata": {
  "kernelspec": {
   "display_name": "Python 3 (ipykernel)",
   "language": "python",
   "name": "python3"
  },
  "language_info": {
   "codemirror_mode": {
    "name": "ipython",
    "version": 3
   },
   "file_extension": ".py",
   "mimetype": "text/x-python",
   "name": "python",
   "nbconvert_exporter": "python",
   "pygments_lexer": "ipython3",
   "version": "3.11.5"
  },
  "widgets": {
   "application/vnd.jupyter.widget-state+json": {
    "state": {},
    "version_major": 2,
    "version_minor": 0
   }
  }
 },
 "nbformat": 4,
 "nbformat_minor": 5
}
