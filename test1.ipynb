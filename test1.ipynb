{
 "cells": [
  {
   "cell_type": "code",
   "execution_count": 69,
   "id": "534447b9-04b5-48b6-85ec-b87aa88e7211",
   "metadata": {
    "tags": []
   },
   "outputs": [],
   "source": [
    "import numpy as np\n",
    "import pandas as pd\n",
    "import neattext as nt\n",
    "import texthero as hero\n",
    "import matplotlib.pyplot as plt\n",
    "import seaborn as sns"
   ]
  },
  {
   "cell_type": "code",
   "execution_count": 70,
   "id": "4024bbd4-a79f-4722-8f31-7a84c877ea04",
   "metadata": {
    "tags": []
   },
   "outputs": [],
   "source": [
    "# Essayer différents encodages jusqu'à ce que le fichier soit lu correctement\n",
    "# encodings = ['utf-8', 'latin-1', 'iso-8859-1']\n",
    "\n",
    "# for encoding in encodings:\n",
    "#     try:\n",
    "#         # Charger le fichier TSV dans un DataFrame\n",
    "#         df = pd.read_csv('test_set.tsv', sep='\\t', encoding=encoding)\n",
    "\n",
    "#         # Enregistrer le DataFrame dans un fichier CSV\n",
    "#         df.to_csv('test_set.csv', index=False)\n",
    "\n",
    "#         print(f\"Le fichier a été lu avec succès avec l'encodage : {encoding}\")\n",
    "#         break  # Sortir de la boucle si la lecture réussit\n",
    "\n",
    "#     except UnicodeDecodeError:\n",
    "#         print(f\"Échec de la lecture avec l'encodage : {encoding}\")"
   ]
  },
  {
   "cell_type": "markdown",
   "id": "f9dacffe-d558-4a52-ad7f-418f2c7fb1d1",
   "metadata": {},
   "source": [
    "### Data processing"
   ]
  },
  {
   "cell_type": "code",
   "execution_count": 71,
   "id": "6a017fd1-e727-422d-9662-3ce6ce7fe8a7",
   "metadata": {
    "tags": []
   },
   "outputs": [],
   "source": [
    "data = pd.read_excel(\"training_set.xls\")"
   ]
  },
  {
   "cell_type": "code",
   "execution_count": 72,
   "id": "f96d6000-5670-488b-a25d-8e4c9da870d7",
   "metadata": {
    "tags": []
   },
   "outputs": [],
   "source": [
    "df_copy = data.copy()"
   ]
  },
  {
   "cell_type": "code",
   "execution_count": 73,
   "id": "5aec7c6a-3977-4213-8598-d5ea6a38ad9e",
   "metadata": {
    "tags": []
   },
   "outputs": [
    {
     "data": {
      "text/html": [
       "<div>\n",
       "<style scoped>\n",
       "    .dataframe tbody tr th:only-of-type {\n",
       "        vertical-align: middle;\n",
       "    }\n",
       "\n",
       "    .dataframe tbody tr th {\n",
       "        vertical-align: top;\n",
       "    }\n",
       "\n",
       "    .dataframe thead th {\n",
       "        text-align: right;\n",
       "    }\n",
       "</style>\n",
       "<table border=\"1\" class=\"dataframe\">\n",
       "  <thead>\n",
       "    <tr style=\"text-align: right;\">\n",
       "      <th></th>\n",
       "      <th>essay_id</th>\n",
       "      <th>essay_set</th>\n",
       "      <th>essay</th>\n",
       "      <th>rater1_domain1</th>\n",
       "      <th>rater2_domain1</th>\n",
       "      <th>rater3_domain1</th>\n",
       "      <th>domain1_score</th>\n",
       "      <th>rater1_domain2</th>\n",
       "      <th>rater2_domain2</th>\n",
       "      <th>domain2_score</th>\n",
       "      <th>...</th>\n",
       "      <th>rater2_trait3</th>\n",
       "      <th>rater2_trait4</th>\n",
       "      <th>rater2_trait5</th>\n",
       "      <th>rater2_trait6</th>\n",
       "      <th>rater3_trait1</th>\n",
       "      <th>rater3_trait2</th>\n",
       "      <th>rater3_trait3</th>\n",
       "      <th>rater3_trait4</th>\n",
       "      <th>rater3_trait5</th>\n",
       "      <th>rater3_trait6</th>\n",
       "    </tr>\n",
       "  </thead>\n",
       "  <tbody>\n",
       "    <tr>\n",
       "      <th>0</th>\n",
       "      <td>1</td>\n",
       "      <td>1</td>\n",
       "      <td>Dear local newspaper, I think effects computer...</td>\n",
       "      <td>4.0</td>\n",
       "      <td>4.0</td>\n",
       "      <td>NaN</td>\n",
       "      <td>8.0</td>\n",
       "      <td>NaN</td>\n",
       "      <td>NaN</td>\n",
       "      <td>NaN</td>\n",
       "      <td>...</td>\n",
       "      <td>NaN</td>\n",
       "      <td>NaN</td>\n",
       "      <td>NaN</td>\n",
       "      <td>NaN</td>\n",
       "      <td>NaN</td>\n",
       "      <td>NaN</td>\n",
       "      <td>NaN</td>\n",
       "      <td>NaN</td>\n",
       "      <td>NaN</td>\n",
       "      <td>NaN</td>\n",
       "    </tr>\n",
       "    <tr>\n",
       "      <th>1</th>\n",
       "      <td>2</td>\n",
       "      <td>1</td>\n",
       "      <td>Dear @CAPS1 @CAPS2, I believe that using compu...</td>\n",
       "      <td>5.0</td>\n",
       "      <td>4.0</td>\n",
       "      <td>NaN</td>\n",
       "      <td>9.0</td>\n",
       "      <td>NaN</td>\n",
       "      <td>NaN</td>\n",
       "      <td>NaN</td>\n",
       "      <td>...</td>\n",
       "      <td>NaN</td>\n",
       "      <td>NaN</td>\n",
       "      <td>NaN</td>\n",
       "      <td>NaN</td>\n",
       "      <td>NaN</td>\n",
       "      <td>NaN</td>\n",
       "      <td>NaN</td>\n",
       "      <td>NaN</td>\n",
       "      <td>NaN</td>\n",
       "      <td>NaN</td>\n",
       "    </tr>\n",
       "    <tr>\n",
       "      <th>2</th>\n",
       "      <td>3</td>\n",
       "      <td>1</td>\n",
       "      <td>Dear, @CAPS1 @CAPS2 @CAPS3 More and more peopl...</td>\n",
       "      <td>4.0</td>\n",
       "      <td>3.0</td>\n",
       "      <td>NaN</td>\n",
       "      <td>7.0</td>\n",
       "      <td>NaN</td>\n",
       "      <td>NaN</td>\n",
       "      <td>NaN</td>\n",
       "      <td>...</td>\n",
       "      <td>NaN</td>\n",
       "      <td>NaN</td>\n",
       "      <td>NaN</td>\n",
       "      <td>NaN</td>\n",
       "      <td>NaN</td>\n",
       "      <td>NaN</td>\n",
       "      <td>NaN</td>\n",
       "      <td>NaN</td>\n",
       "      <td>NaN</td>\n",
       "      <td>NaN</td>\n",
       "    </tr>\n",
       "    <tr>\n",
       "      <th>3</th>\n",
       "      <td>4</td>\n",
       "      <td>1</td>\n",
       "      <td>Dear Local Newspaper, @CAPS1 I have found that...</td>\n",
       "      <td>5.0</td>\n",
       "      <td>5.0</td>\n",
       "      <td>NaN</td>\n",
       "      <td>10.0</td>\n",
       "      <td>NaN</td>\n",
       "      <td>NaN</td>\n",
       "      <td>NaN</td>\n",
       "      <td>...</td>\n",
       "      <td>NaN</td>\n",
       "      <td>NaN</td>\n",
       "      <td>NaN</td>\n",
       "      <td>NaN</td>\n",
       "      <td>NaN</td>\n",
       "      <td>NaN</td>\n",
       "      <td>NaN</td>\n",
       "      <td>NaN</td>\n",
       "      <td>NaN</td>\n",
       "      <td>NaN</td>\n",
       "    </tr>\n",
       "    <tr>\n",
       "      <th>4</th>\n",
       "      <td>5</td>\n",
       "      <td>1</td>\n",
       "      <td>Dear @LOCATION1, I know having computers has a...</td>\n",
       "      <td>4.0</td>\n",
       "      <td>4.0</td>\n",
       "      <td>NaN</td>\n",
       "      <td>8.0</td>\n",
       "      <td>NaN</td>\n",
       "      <td>NaN</td>\n",
       "      <td>NaN</td>\n",
       "      <td>...</td>\n",
       "      <td>NaN</td>\n",
       "      <td>NaN</td>\n",
       "      <td>NaN</td>\n",
       "      <td>NaN</td>\n",
       "      <td>NaN</td>\n",
       "      <td>NaN</td>\n",
       "      <td>NaN</td>\n",
       "      <td>NaN</td>\n",
       "      <td>NaN</td>\n",
       "      <td>NaN</td>\n",
       "    </tr>\n",
       "  </tbody>\n",
       "</table>\n",
       "<p>5 rows × 28 columns</p>\n",
       "</div>"
      ],
      "text/plain": [
       "   essay_id  essay_set                                              essay  \\\n",
       "0         1          1  Dear local newspaper, I think effects computer...   \n",
       "1         2          1  Dear @CAPS1 @CAPS2, I believe that using compu...   \n",
       "2         3          1  Dear, @CAPS1 @CAPS2 @CAPS3 More and more peopl...   \n",
       "3         4          1  Dear Local Newspaper, @CAPS1 I have found that...   \n",
       "4         5          1  Dear @LOCATION1, I know having computers has a...   \n",
       "\n",
       "   rater1_domain1  rater2_domain1  rater3_domain1  domain1_score  \\\n",
       "0             4.0             4.0             NaN            8.0   \n",
       "1             5.0             4.0             NaN            9.0   \n",
       "2             4.0             3.0             NaN            7.0   \n",
       "3             5.0             5.0             NaN           10.0   \n",
       "4             4.0             4.0             NaN            8.0   \n",
       "\n",
       "   rater1_domain2  rater2_domain2  domain2_score  ...  rater2_trait3  \\\n",
       "0             NaN             NaN            NaN  ...            NaN   \n",
       "1             NaN             NaN            NaN  ...            NaN   \n",
       "2             NaN             NaN            NaN  ...            NaN   \n",
       "3             NaN             NaN            NaN  ...            NaN   \n",
       "4             NaN             NaN            NaN  ...            NaN   \n",
       "\n",
       "   rater2_trait4  rater2_trait5  rater2_trait6  rater3_trait1  rater3_trait2  \\\n",
       "0            NaN            NaN            NaN            NaN            NaN   \n",
       "1            NaN            NaN            NaN            NaN            NaN   \n",
       "2            NaN            NaN            NaN            NaN            NaN   \n",
       "3            NaN            NaN            NaN            NaN            NaN   \n",
       "4            NaN            NaN            NaN            NaN            NaN   \n",
       "\n",
       "   rater3_trait3  rater3_trait4  rater3_trait5  rater3_trait6  \n",
       "0            NaN            NaN            NaN            NaN  \n",
       "1            NaN            NaN            NaN            NaN  \n",
       "2            NaN            NaN            NaN            NaN  \n",
       "3            NaN            NaN            NaN            NaN  \n",
       "4            NaN            NaN            NaN            NaN  \n",
       "\n",
       "[5 rows x 28 columns]"
      ]
     },
     "execution_count": 73,
     "metadata": {},
     "output_type": "execute_result"
    }
   ],
   "source": [
    "df_copy.head()"
   ]
  },
  {
   "cell_type": "code",
   "execution_count": 74,
   "id": "1e95676f-f4ce-4b8c-a97c-4fadbf996f4d",
   "metadata": {
    "tags": []
   },
   "outputs": [
    {
     "data": {
      "text/plain": [
       "essay_id              0\n",
       "essay_set             0\n",
       "essay                 0\n",
       "rater1_domain1        1\n",
       "rater2_domain1        1\n",
       "rater3_domain1    12850\n",
       "domain1_score         1\n",
       "rater1_domain2    11178\n",
       "rater2_domain2    11178\n",
       "domain2_score     11178\n",
       "rater1_trait1     10686\n",
       "rater1_trait2     10686\n",
       "rater1_trait3     10686\n",
       "rater1_trait4     10686\n",
       "rater1_trait5     12255\n",
       "rater1_trait6     12255\n",
       "rater2_trait1     10686\n",
       "rater2_trait2     10686\n",
       "rater2_trait3     10686\n",
       "rater2_trait4     10686\n",
       "rater2_trait5     12255\n",
       "rater2_trait6     12255\n",
       "rater3_trait1     12850\n",
       "rater3_trait2     12850\n",
       "rater3_trait3     12850\n",
       "rater3_trait4     12850\n",
       "rater3_trait5     12850\n",
       "rater3_trait6     12850\n",
       "dtype: int64"
      ]
     },
     "execution_count": 74,
     "metadata": {},
     "output_type": "execute_result"
    }
   ],
   "source": [
    "df_copy.isnull().sum()"
   ]
  },
  {
   "cell_type": "code",
   "execution_count": 75,
   "id": "f21c2e96-2ea3-4091-90d4-a8836aee0a2e",
   "metadata": {
    "tags": []
   },
   "outputs": [],
   "source": [
    "df = df_copy[[\"essay_id\", \"essay_set\", \"essay\", \"rater1_domain1\", \"rater2_domain1\", \"domain1_score\"]]"
   ]
  },
  {
   "cell_type": "code",
   "execution_count": 76,
   "id": "0826d08b-ed84-4c81-8c7a-b28fa2150d97",
   "metadata": {
    "tags": []
   },
   "outputs": [
    {
     "data": {
      "text/html": [
       "<div>\n",
       "<style scoped>\n",
       "    .dataframe tbody tr th:only-of-type {\n",
       "        vertical-align: middle;\n",
       "    }\n",
       "\n",
       "    .dataframe tbody tr th {\n",
       "        vertical-align: top;\n",
       "    }\n",
       "\n",
       "    .dataframe thead th {\n",
       "        text-align: right;\n",
       "    }\n",
       "</style>\n",
       "<table border=\"1\" class=\"dataframe\">\n",
       "  <thead>\n",
       "    <tr style=\"text-align: right;\">\n",
       "      <th></th>\n",
       "      <th>essay_id</th>\n",
       "      <th>essay_set</th>\n",
       "      <th>essay</th>\n",
       "      <th>rater1_domain1</th>\n",
       "      <th>rater2_domain1</th>\n",
       "      <th>domain1_score</th>\n",
       "    </tr>\n",
       "  </thead>\n",
       "  <tbody>\n",
       "    <tr>\n",
       "      <th>0</th>\n",
       "      <td>1</td>\n",
       "      <td>1</td>\n",
       "      <td>Dear local newspaper, I think effects computer...</td>\n",
       "      <td>4.0</td>\n",
       "      <td>4.0</td>\n",
       "      <td>8.0</td>\n",
       "    </tr>\n",
       "    <tr>\n",
       "      <th>1</th>\n",
       "      <td>2</td>\n",
       "      <td>1</td>\n",
       "      <td>Dear @CAPS1 @CAPS2, I believe that using compu...</td>\n",
       "      <td>5.0</td>\n",
       "      <td>4.0</td>\n",
       "      <td>9.0</td>\n",
       "    </tr>\n",
       "    <tr>\n",
       "      <th>2</th>\n",
       "      <td>3</td>\n",
       "      <td>1</td>\n",
       "      <td>Dear, @CAPS1 @CAPS2 @CAPS3 More and more peopl...</td>\n",
       "      <td>4.0</td>\n",
       "      <td>3.0</td>\n",
       "      <td>7.0</td>\n",
       "    </tr>\n",
       "    <tr>\n",
       "      <th>3</th>\n",
       "      <td>4</td>\n",
       "      <td>1</td>\n",
       "      <td>Dear Local Newspaper, @CAPS1 I have found that...</td>\n",
       "      <td>5.0</td>\n",
       "      <td>5.0</td>\n",
       "      <td>10.0</td>\n",
       "    </tr>\n",
       "    <tr>\n",
       "      <th>4</th>\n",
       "      <td>5</td>\n",
       "      <td>1</td>\n",
       "      <td>Dear @LOCATION1, I know having computers has a...</td>\n",
       "      <td>4.0</td>\n",
       "      <td>4.0</td>\n",
       "      <td>8.0</td>\n",
       "    </tr>\n",
       "  </tbody>\n",
       "</table>\n",
       "</div>"
      ],
      "text/plain": [
       "   essay_id  essay_set                                              essay  \\\n",
       "0         1          1  Dear local newspaper, I think effects computer...   \n",
       "1         2          1  Dear @CAPS1 @CAPS2, I believe that using compu...   \n",
       "2         3          1  Dear, @CAPS1 @CAPS2 @CAPS3 More and more peopl...   \n",
       "3         4          1  Dear Local Newspaper, @CAPS1 I have found that...   \n",
       "4         5          1  Dear @LOCATION1, I know having computers has a...   \n",
       "\n",
       "   rater1_domain1  rater2_domain1  domain1_score  \n",
       "0             4.0             4.0            8.0  \n",
       "1             5.0             4.0            9.0  \n",
       "2             4.0             3.0            7.0  \n",
       "3             5.0             5.0           10.0  \n",
       "4             4.0             4.0            8.0  "
      ]
     },
     "execution_count": 76,
     "metadata": {},
     "output_type": "execute_result"
    }
   ],
   "source": [
    "df.head()"
   ]
  },
  {
   "cell_type": "code",
   "execution_count": 77,
   "id": "0018bf3d-4d6a-4543-863b-611aec95cd2a",
   "metadata": {
    "tags": []
   },
   "outputs": [
    {
     "name": "stderr",
     "output_type": "stream",
     "text": [
      "C:\\Users\\Dieu_Merci\\AppData\\Local\\Temp\\ipykernel_2512\\946135890.py:1: SettingWithCopyWarning: \n",
      "A value is trying to be set on a copy of a slice from a DataFrame\n",
      "\n",
      "See the caveats in the documentation: https://pandas.pydata.org/pandas-docs/stable/user_guide/indexing.html#returning-a-view-versus-a-copy\n",
      "  df.fillna(0, inplace=True)\n"
     ]
    }
   ],
   "source": [
    "df.fillna(0, inplace=True)  "
   ]
  },
  {
   "cell_type": "code",
   "execution_count": 78,
   "id": "77c17a6b-2076-4f44-963c-7df2a58f7ed0",
   "metadata": {
    "tags": []
   },
   "outputs": [
    {
     "data": {
      "text/plain": [
       "essay_id          0\n",
       "essay_set         0\n",
       "essay             0\n",
       "rater1_domain1    0\n",
       "rater2_domain1    0\n",
       "domain1_score     0\n",
       "dtype: int64"
      ]
     },
     "execution_count": 78,
     "metadata": {},
     "output_type": "execute_result"
    }
   ],
   "source": [
    "df.isnull().sum()"
   ]
  },
  {
   "cell_type": "code",
   "execution_count": 79,
   "id": "dfe63734-9aef-431d-8723-78dd612f0876",
   "metadata": {
    "tags": []
   },
   "outputs": [
    {
     "data": {
      "text/html": [
       "<div>\n",
       "<style scoped>\n",
       "    .dataframe tbody tr th:only-of-type {\n",
       "        vertical-align: middle;\n",
       "    }\n",
       "\n",
       "    .dataframe tbody tr th {\n",
       "        vertical-align: top;\n",
       "    }\n",
       "\n",
       "    .dataframe thead th {\n",
       "        text-align: right;\n",
       "    }\n",
       "</style>\n",
       "<table border=\"1\" class=\"dataframe\">\n",
       "  <thead>\n",
       "    <tr style=\"text-align: right;\">\n",
       "      <th></th>\n",
       "      <th>essay_id</th>\n",
       "      <th>essay_set</th>\n",
       "      <th>essay</th>\n",
       "      <th>rater1_domain1</th>\n",
       "      <th>rater2_domain1</th>\n",
       "      <th>domain1_score</th>\n",
       "    </tr>\n",
       "  </thead>\n",
       "  <tbody>\n",
       "    <tr>\n",
       "      <th>12973</th>\n",
       "      <td>21626</td>\n",
       "      <td>8</td>\n",
       "      <td>In most stories mothers and daughters are eit...</td>\n",
       "      <td>17.0</td>\n",
       "      <td>18.0</td>\n",
       "      <td>35.0</td>\n",
       "    </tr>\n",
       "    <tr>\n",
       "      <th>12974</th>\n",
       "      <td>21628</td>\n",
       "      <td>8</td>\n",
       "      <td>I never understood the meaning laughter is th...</td>\n",
       "      <td>15.0</td>\n",
       "      <td>17.0</td>\n",
       "      <td>32.0</td>\n",
       "    </tr>\n",
       "    <tr>\n",
       "      <th>12975</th>\n",
       "      <td>21629</td>\n",
       "      <td>8</td>\n",
       "      <td>When you laugh, is @CAPS5 out of habit, or is ...</td>\n",
       "      <td>20.0</td>\n",
       "      <td>26.0</td>\n",
       "      <td>40.0</td>\n",
       "    </tr>\n",
       "    <tr>\n",
       "      <th>12976</th>\n",
       "      <td>21630</td>\n",
       "      <td>8</td>\n",
       "      <td>Trippin' on fen...</td>\n",
       "      <td>20.0</td>\n",
       "      <td>20.0</td>\n",
       "      <td>40.0</td>\n",
       "    </tr>\n",
       "    <tr>\n",
       "      <th>12977</th>\n",
       "      <td>21633</td>\n",
       "      <td>8</td>\n",
       "      <td>Many people believe that laughter can improve...</td>\n",
       "      <td>20.0</td>\n",
       "      <td>20.0</td>\n",
       "      <td>40.0</td>\n",
       "    </tr>\n",
       "  </tbody>\n",
       "</table>\n",
       "</div>"
      ],
      "text/plain": [
       "       essay_id  essay_set                                              essay  \\\n",
       "12973     21626          8   In most stories mothers and daughters are eit...   \n",
       "12974     21628          8   I never understood the meaning laughter is th...   \n",
       "12975     21629          8  When you laugh, is @CAPS5 out of habit, or is ...   \n",
       "12976     21630          8                                 Trippin' on fen...   \n",
       "12977     21633          8   Many people believe that laughter can improve...   \n",
       "\n",
       "       rater1_domain1  rater2_domain1  domain1_score  \n",
       "12973            17.0            18.0           35.0  \n",
       "12974            15.0            17.0           32.0  \n",
       "12975            20.0            26.0           40.0  \n",
       "12976            20.0            20.0           40.0  \n",
       "12977            20.0            20.0           40.0  "
      ]
     },
     "execution_count": 79,
     "metadata": {},
     "output_type": "execute_result"
    }
   ],
   "source": [
    "df.tail()"
   ]
  },
  {
   "cell_type": "code",
   "execution_count": 80,
   "id": "532bc2c9-d1b4-4871-beae-fb53c5ef36c5",
   "metadata": {
    "tags": []
   },
   "outputs": [
    {
     "data": {
      "text/plain": [
       "essay_id            int64\n",
       "essay_set           int64\n",
       "essay              object\n",
       "rater1_domain1    float64\n",
       "rater2_domain1    float64\n",
       "domain1_score     float64\n",
       "dtype: object"
      ]
     },
     "execution_count": 80,
     "metadata": {},
     "output_type": "execute_result"
    }
   ],
   "source": [
    "df.dtypes"
   ]
  },
  {
   "cell_type": "code",
   "execution_count": 81,
   "id": "1dc0fc43-9c82-4a57-bc02-22bd08c37170",
   "metadata": {
    "tags": []
   },
   "outputs": [
    {
     "data": {
      "text/html": [
       "<div>\n",
       "<style scoped>\n",
       "    .dataframe tbody tr th:only-of-type {\n",
       "        vertical-align: middle;\n",
       "    }\n",
       "\n",
       "    .dataframe tbody tr th {\n",
       "        vertical-align: top;\n",
       "    }\n",
       "\n",
       "    .dataframe thead th {\n",
       "        text-align: right;\n",
       "    }\n",
       "</style>\n",
       "<table border=\"1\" class=\"dataframe\">\n",
       "  <thead>\n",
       "    <tr style=\"text-align: right;\">\n",
       "      <th></th>\n",
       "      <th>Null values</th>\n",
       "    </tr>\n",
       "  </thead>\n",
       "  <tbody>\n",
       "    <tr>\n",
       "      <th>essay_id</th>\n",
       "      <td>0</td>\n",
       "    </tr>\n",
       "    <tr>\n",
       "      <th>essay_set</th>\n",
       "      <td>0</td>\n",
       "    </tr>\n",
       "    <tr>\n",
       "      <th>essay</th>\n",
       "      <td>0</td>\n",
       "    </tr>\n",
       "    <tr>\n",
       "      <th>rater1_domain1</th>\n",
       "      <td>0</td>\n",
       "    </tr>\n",
       "    <tr>\n",
       "      <th>rater2_domain1</th>\n",
       "      <td>0</td>\n",
       "    </tr>\n",
       "    <tr>\n",
       "      <th>domain1_score</th>\n",
       "      <td>0</td>\n",
       "    </tr>\n",
       "  </tbody>\n",
       "</table>\n",
       "</div>"
      ],
      "text/plain": [
       "                Null values\n",
       "essay_id                  0\n",
       "essay_set                 0\n",
       "essay                     0\n",
       "rater1_domain1            0\n",
       "rater2_domain1            0\n",
       "domain1_score             0"
      ]
     },
     "execution_count": 81,
     "metadata": {},
     "output_type": "execute_result"
    }
   ],
   "source": [
    "df.isnull().sum().to_frame(\"Null values\")"
   ]
  },
  {
   "cell_type": "code",
   "execution_count": 82,
   "id": "0c4e0fa7-e540-4a73-ad06-7c6ae1048db7",
   "metadata": {
    "tags": []
   },
   "outputs": [
    {
     "data": {
      "text/plain": [
       "(12978, 6)"
      ]
     },
     "execution_count": 82,
     "metadata": {},
     "output_type": "execute_result"
    }
   ],
   "source": [
    "df.shape"
   ]
  },
  {
   "cell_type": "code",
   "execution_count": 83,
   "id": "b2f58e28-5036-4291-ae1f-a244ecb1068b",
   "metadata": {
    "tags": []
   },
   "outputs": [
    {
     "name": "stdout",
     "output_type": "stream",
     "text": [
      "<class 'pandas.core.frame.DataFrame'>\n",
      "RangeIndex: 12978 entries, 0 to 12977\n",
      "Data columns (total 6 columns):\n",
      " #   Column          Non-Null Count  Dtype  \n",
      "---  ------          --------------  -----  \n",
      " 0   essay_id        12978 non-null  int64  \n",
      " 1   essay_set       12978 non-null  int64  \n",
      " 2   essay           12978 non-null  object \n",
      " 3   rater1_domain1  12978 non-null  float64\n",
      " 4   rater2_domain1  12978 non-null  float64\n",
      " 5   domain1_score   12978 non-null  float64\n",
      "dtypes: float64(3), int64(2), object(1)\n",
      "memory usage: 608.5+ KB\n"
     ]
    }
   ],
   "source": [
    "df.info()"
   ]
  },
  {
   "cell_type": "code",
   "execution_count": 84,
   "id": "44cf7ae1-b6f5-4541-9612-cc7c4234eb52",
   "metadata": {
    "tags": []
   },
   "outputs": [
    {
     "data": {
      "text/html": [
       "<div>\n",
       "<style scoped>\n",
       "    .dataframe tbody tr th:only-of-type {\n",
       "        vertical-align: middle;\n",
       "    }\n",
       "\n",
       "    .dataframe tbody tr th {\n",
       "        vertical-align: top;\n",
       "    }\n",
       "\n",
       "    .dataframe thead th {\n",
       "        text-align: right;\n",
       "    }\n",
       "</style>\n",
       "<table border=\"1\" class=\"dataframe\">\n",
       "  <thead>\n",
       "    <tr style=\"text-align: right;\">\n",
       "      <th></th>\n",
       "      <th>essay_id</th>\n",
       "      <th>essay_set</th>\n",
       "      <th>rater1_domain1</th>\n",
       "      <th>rater2_domain1</th>\n",
       "      <th>domain1_score</th>\n",
       "    </tr>\n",
       "  </thead>\n",
       "  <tbody>\n",
       "    <tr>\n",
       "      <th>count</th>\n",
       "      <td>12978.000000</td>\n",
       "      <td>12978.000000</td>\n",
       "      <td>12978.000000</td>\n",
       "      <td>12978.000000</td>\n",
       "      <td>12978.000000</td>\n",
       "    </tr>\n",
       "    <tr>\n",
       "      <th>mean</th>\n",
       "      <td>10295.432809</td>\n",
       "      <td>4.179458</td>\n",
       "      <td>4.126522</td>\n",
       "      <td>4.136770</td>\n",
       "      <td>6.799199</td>\n",
       "    </tr>\n",
       "    <tr>\n",
       "      <th>std</th>\n",
       "      <td>6308.588616</td>\n",
       "      <td>2.136749</td>\n",
       "      <td>4.212531</td>\n",
       "      <td>4.264311</td>\n",
       "      <td>8.970411</td>\n",
       "    </tr>\n",
       "    <tr>\n",
       "      <th>min</th>\n",
       "      <td>1.000000</td>\n",
       "      <td>1.000000</td>\n",
       "      <td>0.000000</td>\n",
       "      <td>0.000000</td>\n",
       "      <td>0.000000</td>\n",
       "    </tr>\n",
       "    <tr>\n",
       "      <th>25%</th>\n",
       "      <td>4439.250000</td>\n",
       "      <td>2.000000</td>\n",
       "      <td>2.000000</td>\n",
       "      <td>2.000000</td>\n",
       "      <td>2.000000</td>\n",
       "    </tr>\n",
       "    <tr>\n",
       "      <th>50%</th>\n",
       "      <td>10045.500000</td>\n",
       "      <td>4.000000</td>\n",
       "      <td>3.000000</td>\n",
       "      <td>3.000000</td>\n",
       "      <td>3.000000</td>\n",
       "    </tr>\n",
       "    <tr>\n",
       "      <th>75%</th>\n",
       "      <td>15680.750000</td>\n",
       "      <td>6.000000</td>\n",
       "      <td>4.000000</td>\n",
       "      <td>4.000000</td>\n",
       "      <td>8.000000</td>\n",
       "    </tr>\n",
       "    <tr>\n",
       "      <th>max</th>\n",
       "      <td>21633.000000</td>\n",
       "      <td>8.000000</td>\n",
       "      <td>30.000000</td>\n",
       "      <td>30.000000</td>\n",
       "      <td>60.000000</td>\n",
       "    </tr>\n",
       "  </tbody>\n",
       "</table>\n",
       "</div>"
      ],
      "text/plain": [
       "           essay_id     essay_set  rater1_domain1  rater2_domain1  \\\n",
       "count  12978.000000  12978.000000    12978.000000    12978.000000   \n",
       "mean   10295.432809      4.179458        4.126522        4.136770   \n",
       "std     6308.588616      2.136749        4.212531        4.264311   \n",
       "min        1.000000      1.000000        0.000000        0.000000   \n",
       "25%     4439.250000      2.000000        2.000000        2.000000   \n",
       "50%    10045.500000      4.000000        3.000000        3.000000   \n",
       "75%    15680.750000      6.000000        4.000000        4.000000   \n",
       "max    21633.000000      8.000000       30.000000       30.000000   \n",
       "\n",
       "       domain1_score  \n",
       "count   12978.000000  \n",
       "mean        6.799199  \n",
       "std         8.970411  \n",
       "min         0.000000  \n",
       "25%         2.000000  \n",
       "50%         3.000000  \n",
       "75%         8.000000  \n",
       "max        60.000000  "
      ]
     },
     "execution_count": 84,
     "metadata": {},
     "output_type": "execute_result"
    }
   ],
   "source": [
    "df.describe()"
   ]
  },
  {
   "cell_type": "code",
   "execution_count": 85,
   "id": "93af8ff3-8182-465b-af72-9ac637c928ac",
   "metadata": {
    "tags": []
   },
   "outputs": [
    {
     "data": {
      "text/plain": [
       "{1, 2, 3, 4, 5, 6, 7, 8}"
      ]
     },
     "execution_count": 85,
     "metadata": {},
     "output_type": "execute_result"
    }
   ],
   "source": [
    "set(df[\"essay_set\"])"
   ]
  },
  {
   "cell_type": "code",
   "execution_count": 86,
   "id": "9cc35677-49cb-4b00-8529-fa0f67e0e9d2",
   "metadata": {
    "tags": []
   },
   "outputs": [
    {
     "data": {
      "text/plain": [
       "{0.0,\n",
       " 1.0,\n",
       " 2.0,\n",
       " 3.0,\n",
       " 4.0,\n",
       " 5.0,\n",
       " 6.0,\n",
       " 7.0,\n",
       " 8.0,\n",
       " 9.0,\n",
       " 10.0,\n",
       " 11.0,\n",
       " 12.0,\n",
       " 13.0,\n",
       " 14.0,\n",
       " 15.0,\n",
       " 16.0,\n",
       " 17.0,\n",
       " 18.0,\n",
       " 19.0,\n",
       " 20.0,\n",
       " 21.0,\n",
       " 22.0,\n",
       " 23.0,\n",
       " 24.0,\n",
       " 25.0,\n",
       " 26.0,\n",
       " 27.0,\n",
       " 28.0,\n",
       " 29.0,\n",
       " 30.0,\n",
       " 31.0,\n",
       " 32.0,\n",
       " 33.0,\n",
       " 34.0,\n",
       " 35.0,\n",
       " 36.0,\n",
       " 37.0,\n",
       " 38.0,\n",
       " 39.0,\n",
       " 40.0,\n",
       " 41.0,\n",
       " 42.0,\n",
       " 43.0,\n",
       " 44.0,\n",
       " 45.0,\n",
       " 46.0,\n",
       " 47.0,\n",
       " 48.0,\n",
       " 49.0,\n",
       " 50.0,\n",
       " 55.0,\n",
       " 60.0}"
      ]
     },
     "execution_count": 86,
     "metadata": {},
     "output_type": "execute_result"
    }
   ],
   "source": [
    "set(df[\"domain1_score\"])"
   ]
  },
  {
   "cell_type": "code",
   "execution_count": 87,
   "id": "f14462c9-1e8a-498c-8b0f-62b0f6c6bba2",
   "metadata": {
    "tags": []
   },
   "outputs": [
    {
     "data": {
      "text/plain": [
       "domain1_score\n",
       "3.0     2830\n",
       "2.0     2445\n",
       "1.0     1736\n",
       "4.0     1424\n",
       "8.0      737\n",
       "0.0      420\n",
       "9.0      383\n",
       "10.0     372\n",
       "16.0     199\n",
       "11.0     165\n",
       "7.0      163\n",
       "40.0     161\n",
       "17.0     160\n",
       "6.0      137\n",
       "12.0     133\n",
       "18.0     118\n",
       "14.0     105\n",
       "20.0     103\n",
       "24.0      99\n",
       "5.0       96\n",
       "19.0      88\n",
       "15.0      86\n",
       "13.0      82\n",
       "21.0      70\n",
       "36.0      65\n",
       "22.0      63\n",
       "23.0      53\n",
       "30.0      49\n",
       "35.0      47\n",
       "37.0      39\n",
       "34.0      39\n",
       "32.0      37\n",
       "31.0      34\n",
       "33.0      32\n",
       "45.0      31\n",
       "42.0      23\n",
       "41.0      22\n",
       "38.0      20\n",
       "43.0      15\n",
       "44.0      14\n",
       "50.0      13\n",
       "46.0      13\n",
       "28.0      11\n",
       "39.0       8\n",
       "29.0       8\n",
       "47.0       7\n",
       "27.0       6\n",
       "25.0       5\n",
       "26.0       4\n",
       "48.0       3\n",
       "55.0       2\n",
       "49.0       2\n",
       "60.0       1\n",
       "Name: count, dtype: int64"
      ]
     },
     "execution_count": 87,
     "metadata": {},
     "output_type": "execute_result"
    }
   ],
   "source": [
    "df[\"domain1_score\"].value_counts()"
   ]
  },
  {
   "cell_type": "code",
   "execution_count": 88,
   "id": "64052f69-80d1-49e8-8f4e-0b48922c34bf",
   "metadata": {
    "tags": []
   },
   "outputs": [
    {
     "data": {
      "text/plain": [
       "domain1_score\n",
       "3.0     21.81\n",
       "2.0     18.84\n",
       "1.0     13.38\n",
       "4.0     10.97\n",
       "8.0      5.68\n",
       "0.0      3.24\n",
       "9.0      2.95\n",
       "10.0     2.87\n",
       "16.0     1.53\n",
       "11.0     1.27\n",
       "7.0      1.26\n",
       "40.0     1.24\n",
       "17.0     1.23\n",
       "6.0      1.06\n",
       "12.0     1.02\n",
       "18.0     0.91\n",
       "14.0     0.81\n",
       "20.0     0.79\n",
       "24.0     0.76\n",
       "5.0      0.74\n",
       "19.0     0.68\n",
       "15.0     0.66\n",
       "13.0     0.63\n",
       "21.0     0.54\n",
       "36.0     0.50\n",
       "22.0     0.49\n",
       "23.0     0.41\n",
       "30.0     0.38\n",
       "35.0     0.36\n",
       "37.0     0.30\n",
       "34.0     0.30\n",
       "32.0     0.29\n",
       "31.0     0.26\n",
       "33.0     0.25\n",
       "45.0     0.24\n",
       "42.0     0.18\n",
       "41.0     0.17\n",
       "38.0     0.15\n",
       "43.0     0.12\n",
       "44.0     0.11\n",
       "50.0     0.10\n",
       "46.0     0.10\n",
       "28.0     0.08\n",
       "39.0     0.06\n",
       "29.0     0.06\n",
       "47.0     0.05\n",
       "27.0     0.05\n",
       "25.0     0.04\n",
       "26.0     0.03\n",
       "48.0     0.02\n",
       "55.0     0.02\n",
       "49.0     0.02\n",
       "60.0     0.01\n",
       "Name: proportion, dtype: float64"
      ]
     },
     "execution_count": 88,
     "metadata": {},
     "output_type": "execute_result"
    }
   ],
   "source": [
    "round(df[\"domain1_score\"].value_counts(normalize=True) * 100, 2)"
   ]
  },
  {
   "cell_type": "code",
   "execution_count": 89,
   "id": "0a48f219-3b4e-4e4d-b1ad-0e4fef5e7dd4",
   "metadata": {
    "tags": []
   },
   "outputs": [
    {
     "data": {
      "image/png": "[encoded data removed]",
      "text/plain": [
       "<Figure size 700x500 with 1 Axes>"
      ]
     },
     "metadata": {},
     "output_type": "display_data"
    }
   ],
   "source": [
    "explode = [0.25, 0, 0, 0, 0, 0, 0, 0]\n",
    "\n",
    "df[\"essay_set\"].value_counts().plot.pie(figsize=(7, 5), autopct=\"%.2f%%\", shadow=True, frame=True, explode=explode).legend();"
   ]
  },
  {
   "cell_type": "code",
   "execution_count": 90,
   "id": "81345e13-711f-493a-acd2-31b0ff78b515",
   "metadata": {
    "tags": []
   },
   "outputs": [
    {
     "data": {
      "image/png": "[encoded data removed]",
      "text/plain": [
       "<Figure size 640x480 with 1 Axes>"
      ]
     },
     "metadata": {},
     "output_type": "display_data"
    }
   ],
   "source": [
    "sns.barplot(x=df[\"essay_set\"], y=df[\"domain1_score\"]);"
   ]
  },
  {
   "cell_type": "code",
   "execution_count": 91,
   "id": "acf00f2a-0d53-4f04-9a43-3aeb8acaceb6",
   "metadata": {
    "tags": []
   },
   "outputs": [
    {
     "data": {
      "text/plain": [
       "Index(['essay_id', 'essay_set', 'essay', 'rater1_domain1', 'rater2_domain1',\n",
       "       'domain1_score'],\n",
       "      dtype='object')"
      ]
     },
     "execution_count": 91,
     "metadata": {},
     "output_type": "execute_result"
    }
   ],
   "source": [
    "df.columns"
   ]
  },
  {
   "cell_type": "code",
   "execution_count": 92,
   "id": "57650100-8f3f-45e4-bfb0-04b8f89cac03",
   "metadata": {
    "tags": []
   },
   "outputs": [
    {
     "data": {
      "image/png": "[encoded data removed]",
      "text/plain": [
       "<Figure size 640x480 with 2 Axes>"
      ]
     },
     "metadata": {},
     "output_type": "display_data"
    }
   ],
   "source": [
    "sns.heatmap(df[['essay_id', 'essay_set', 'rater1_domain1', 'rater2_domain1', 'domain1_score']].corr(), annot=True, center=True);"
   ]
  },
  {
   "cell_type": "code",
   "execution_count": 93,
   "id": "79963e57-48da-41ad-ab67-3c0a9d9d0a3b",
   "metadata": {
    "tags": []
   },
   "outputs": [
    {
     "data": {
      "image/png": "[encoded data removed]",
      "text/plain": [
       "<Figure size 400x500 with 1 Axes>"
      ]
     },
     "metadata": {},
     "output_type": "display_data"
    },
    {
     "data": {
      "image/png": "[encoded data removed]",
      "text/plain": [
       "<Figure size 400x500 with 1 Axes>"
      ]
     },
     "metadata": {},
     "output_type": "display_data"
    },
    {
     "data": {
      "image/png": "[encoded data removed]",
      "text/plain": [
       "<Figure size 400x500 with 1 Axes>"
      ]
     },
     "metadata": {},
     "output_type": "display_data"
    },
    {
     "data": {
      "image/png": "[encoded data removed]",
      "text/plain": [
       "<Figure size 400x500 with 1 Axes>"
      ]
     },
     "metadata": {},
     "output_type": "display_data"
    },
    {
     "data": {
      "image/png": "[encoded data removed]",
      "text/plain": [
       "<Figure size 400x500 with 1 Axes>"
      ]
     },
     "metadata": {},
     "output_type": "display_data"
    }
   ],
   "source": [
    "df_outliers = df[['essay_id', 'essay_set', 'rater1_domain1', 'rater2_domain1','domain1_score']]\n",
    "\n",
    "for i in df_outliers.columns:\n",
    "    plt.figure(figsize=(4, 5));\n",
    "    sns.boxplot(x=df_outliers[i]);"
   ]
  },
  {
   "cell_type": "code",
   "execution_count": 94,
   "id": "4958c014-398c-476f-bb61-0dbe599246a7",
   "metadata": {
    "tags": []
   },
   "outputs": [
    {
     "name": "stderr",
     "output_type": "stream",
     "text": [
      "C:\\Users\\Dieu_Merci\\anaconda3\\Lib\\site-packages\\pandas\\core\\arraylike.py:396: RuntimeWarning: divide by zero encountered in log\n",
      "  result = getattr(ufunc, method)(*inputs, **kwargs)\n",
      "C:\\Users\\Dieu_Merci\\AppData\\Local\\Temp\\ipykernel_2512\\1724470679.py:1: SettingWithCopyWarning: \n",
      "A value is trying to be set on a copy of a slice from a DataFrame.\n",
      "Try using .loc[row_indexer,col_indexer] = value instead\n",
      "\n",
      "See the caveats in the documentation: https://pandas.pydata.org/pandas-docs/stable/user_guide/indexing.html#returning-a-view-versus-a-copy\n",
      "  df_outliers[\"rater2_domain1\"] = np.log(df_outliers[\"rater2_domain1\"])\n"
     ]
    }
   ],
   "source": [
    "df_outliers[\"rater2_domain1\"] = np.log(df_outliers[\"rater2_domain1\"])"
   ]
  },
  {
   "cell_type": "code",
   "execution_count": 95,
   "id": "a5e8b293-c028-46f8-89da-d2864c461775",
   "metadata": {
    "tags": []
   },
   "outputs": [
    {
     "data": {
      "image/png": "[encoded data removed]",
      "text/plain": [
       "<Figure size 640x480 with 1 Axes>"
      ]
     },
     "metadata": {},
     "output_type": "display_data"
    }
   ],
   "source": [
    "sns.boxplot(x=df_outliers[\"rater2_domain1\"]);"
   ]
  },
  {
   "cell_type": "code",
   "execution_count": 110,
   "id": "4ed6e3ec-5cb3-40b2-baa2-99cc8665501c",
   "metadata": {
    "tags": []
   },
   "outputs": [],
   "source": [
    "rater2_domain1_outliers = (df_outliers[df_outliers[\"rater2_domain1\"] > df_outliers[\"rater2_domain1\"].quantile(0.75)])"
   ]
  },
  {
   "cell_type": "code",
   "execution_count": 111,
   "id": "1851390a-f897-4baa-a0aa-877da6394805",
   "metadata": {
    "tags": []
   },
   "outputs": [
    {
     "data": {
      "text/plain": [
       "(2832, 5)"
      ]
     },
     "execution_count": 111,
     "metadata": {},
     "output_type": "execute_result"
    }
   ],
   "source": [
    "rater2_domain1_outliers.shape"
   ]
  },
  {
   "cell_type": "code",
   "execution_count": 112,
   "id": "847c8f6d-9a08-4d33-b7ad-293b6bfa71d2",
   "metadata": {
    "tags": []
   },
   "outputs": [
    {
     "data": {
      "text/plain": [
       "essay_id          2832\n",
       "essay_set         2832\n",
       "rater1_domain1    2832\n",
       "rater2_domain1    2832\n",
       "domain1_score     2832\n",
       "dtype: int64"
      ]
     },
     "execution_count": 112,
     "metadata": {},
     "output_type": "execute_result"
    }
   ],
   "source": [
    "rater2_domain1_outliers.count()"
   ]
  },
  {
   "cell_type": "code",
   "execution_count": 113,
   "id": "4bb25a76-3afe-4d7b-b7c6-8fd65fd8788c",
   "metadata": {
    "tags": []
   },
   "outputs": [
    {
     "name": "stderr",
     "output_type": "stream",
     "text": [
      "C:\\Users\\Dieu_Merci\\anaconda3\\Lib\\site-packages\\pandas\\core\\internals\\blocks.py:329: RuntimeWarning: divide by zero encountered in log\n",
      "  result = func(self.values, **kwargs)\n"
     ]
    }
   ],
   "source": [
    "dt = pd.DataFrame(np.log(rater2_domain1_outliers))"
   ]
  },
  {
   "cell_type": "code",
   "execution_count": 114,
   "id": "2f6e616e-325c-4c80-9434-bbddc60a34d2",
   "metadata": {
    "tags": []
   },
   "outputs": [
    {
     "data": {
      "text/html": [
       "<div>\n",
       "<style scoped>\n",
       "    .dataframe tbody tr th:only-of-type {\n",
       "        vertical-align: middle;\n",
       "    }\n",
       "\n",
       "    .dataframe tbody tr th {\n",
       "        vertical-align: top;\n",
       "    }\n",
       "\n",
       "    .dataframe thead th {\n",
       "        text-align: right;\n",
       "    }\n",
       "</style>\n",
       "<table border=\"1\" class=\"dataframe\">\n",
       "  <thead>\n",
       "    <tr style=\"text-align: right;\">\n",
       "      <th></th>\n",
       "      <th>essay_id</th>\n",
       "      <th>essay_set</th>\n",
       "      <th>rater1_domain1</th>\n",
       "      <th>rater2_domain1</th>\n",
       "      <th>domain1_score</th>\n",
       "    </tr>\n",
       "  </thead>\n",
       "  <tbody>\n",
       "    <tr>\n",
       "      <th>3</th>\n",
       "      <td>1.386294</td>\n",
       "      <td>0.000000</td>\n",
       "      <td>1.609438</td>\n",
       "      <td>0.475885</td>\n",
       "      <td>2.302585</td>\n",
       "    </tr>\n",
       "    <tr>\n",
       "      <th>6</th>\n",
       "      <td>1.945910</td>\n",
       "      <td>0.000000</td>\n",
       "      <td>1.609438</td>\n",
       "      <td>0.475885</td>\n",
       "      <td>2.302585</td>\n",
       "    </tr>\n",
       "    <tr>\n",
       "      <th>7</th>\n",
       "      <td>2.079442</td>\n",
       "      <td>0.000000</td>\n",
       "      <td>1.609438</td>\n",
       "      <td>0.475885</td>\n",
       "      <td>2.302585</td>\n",
       "    </tr>\n",
       "    <tr>\n",
       "      <th>8</th>\n",
       "      <td>2.197225</td>\n",
       "      <td>0.000000</td>\n",
       "      <td>1.386294</td>\n",
       "      <td>0.475885</td>\n",
       "      <td>2.197225</td>\n",
       "    </tr>\n",
       "    <tr>\n",
       "      <th>15</th>\n",
       "      <td>2.772589</td>\n",
       "      <td>0.000000</td>\n",
       "      <td>1.791759</td>\n",
       "      <td>0.583198</td>\n",
       "      <td>2.484907</td>\n",
       "    </tr>\n",
       "    <tr>\n",
       "      <th>...</th>\n",
       "      <td>...</td>\n",
       "      <td>...</td>\n",
       "      <td>...</td>\n",
       "      <td>...</td>\n",
       "      <td>...</td>\n",
       "    </tr>\n",
       "    <tr>\n",
       "      <th>12973</th>\n",
       "      <td>9.981652</td>\n",
       "      <td>2.079442</td>\n",
       "      <td>2.833213</td>\n",
       "      <td>1.061385</td>\n",
       "      <td>3.555348</td>\n",
       "    </tr>\n",
       "    <tr>\n",
       "      <th>12974</th>\n",
       "      <td>9.981744</td>\n",
       "      <td>2.079442</td>\n",
       "      <td>2.708050</td>\n",
       "      <td>1.041412</td>\n",
       "      <td>3.465736</td>\n",
       "    </tr>\n",
       "    <tr>\n",
       "      <th>12975</th>\n",
       "      <td>9.981790</td>\n",
       "      <td>2.079442</td>\n",
       "      <td>2.995732</td>\n",
       "      <td>1.181143</td>\n",
       "      <td>3.688879</td>\n",
       "    </tr>\n",
       "    <tr>\n",
       "      <th>12976</th>\n",
       "      <td>9.981837</td>\n",
       "      <td>2.079442</td>\n",
       "      <td>2.995732</td>\n",
       "      <td>1.097189</td>\n",
       "      <td>3.688879</td>\n",
       "    </tr>\n",
       "    <tr>\n",
       "      <th>12977</th>\n",
       "      <td>9.981975</td>\n",
       "      <td>2.079442</td>\n",
       "      <td>2.995732</td>\n",
       "      <td>1.097189</td>\n",
       "      <td>3.688879</td>\n",
       "    </tr>\n",
       "  </tbody>\n",
       "</table>\n",
       "<p>2832 rows × 5 columns</p>\n",
       "</div>"
      ],
      "text/plain": [
       "       essay_id  essay_set  rater1_domain1  rater2_domain1  domain1_score\n",
       "3      1.386294   0.000000        1.609438        0.475885       2.302585\n",
       "6      1.945910   0.000000        1.609438        0.475885       2.302585\n",
       "7      2.079442   0.000000        1.609438        0.475885       2.302585\n",
       "8      2.197225   0.000000        1.386294        0.475885       2.197225\n",
       "15     2.772589   0.000000        1.791759        0.583198       2.484907\n",
       "...         ...        ...             ...             ...            ...\n",
       "12973  9.981652   2.079442        2.833213        1.061385       3.555348\n",
       "12974  9.981744   2.079442        2.708050        1.041412       3.465736\n",
       "12975  9.981790   2.079442        2.995732        1.181143       3.688879\n",
       "12976  9.981837   2.079442        2.995732        1.097189       3.688879\n",
       "12977  9.981975   2.079442        2.995732        1.097189       3.688879\n",
       "\n",
       "[2832 rows x 5 columns]"
      ]
     },
     "execution_count": 114,
     "metadata": {},
     "output_type": "execute_result"
    }
   ],
   "source": [
    "dt"
   ]
  },
  {
   "cell_type": "code",
   "execution_count": 115,
   "id": "6979fe89-f878-49bc-b8da-40ec61b57086",
   "metadata": {
    "tags": []
   },
   "outputs": [],
   "source": [
    "df_perfect = (df_outliers[df_outliers[\"rater2_domain1\"] < df_outliers[\"rater2_domain1\"].quantile(0.75)])"
   ]
  },
  {
   "cell_type": "code",
   "execution_count": 116,
   "id": "27c8261e-9d5f-4ee8-8eb3-6ab619081984",
   "metadata": {
    "tags": []
   },
   "outputs": [
    {
     "data": {
      "text/plain": [
       "(7820, 5)"
      ]
     },
     "execution_count": 116,
     "metadata": {},
     "output_type": "execute_result"
    }
   ],
   "source": [
    "df_perfect.shape"
   ]
  },
  {
   "cell_type": "code",
   "execution_count": 121,
   "id": "dd3d17a8-9393-4b53-9a78-f015aa135641",
   "metadata": {
    "tags": []
   },
   "outputs": [],
   "source": [
    "df_final = pd.concat([df_perfect, dt], axis=0)"
   ]
  },
  {
   "cell_type": "code",
   "execution_count": 122,
   "id": "e4f9061f-3b40-417e-bbc7-0ab2d3e56202",
   "metadata": {
    "tags": []
   },
   "outputs": [
    {
     "data": {
      "text/html": [
       "<div>\n",
       "<style scoped>\n",
       "    .dataframe tbody tr th:only-of-type {\n",
       "        vertical-align: middle;\n",
       "    }\n",
       "\n",
       "    .dataframe tbody tr th {\n",
       "        vertical-align: top;\n",
       "    }\n",
       "\n",
       "    .dataframe thead th {\n",
       "        text-align: right;\n",
       "    }\n",
       "</style>\n",
       "<table border=\"1\" class=\"dataframe\">\n",
       "  <thead>\n",
       "    <tr style=\"text-align: right;\">\n",
       "      <th></th>\n",
       "      <th>essay_id</th>\n",
       "      <th>essay_set</th>\n",
       "      <th>rater1_domain1</th>\n",
       "      <th>rater2_domain1</th>\n",
       "      <th>domain1_score</th>\n",
       "    </tr>\n",
       "  </thead>\n",
       "  <tbody>\n",
       "    <tr>\n",
       "      <th>2</th>\n",
       "      <td>NaN</td>\n",
       "      <td>NaN</td>\n",
       "      <td>NaN</td>\n",
       "      <td>NaN</td>\n",
       "      <td>NaN</td>\n",
       "    </tr>\n",
       "    <tr>\n",
       "      <th>3</th>\n",
       "      <td>NaN</td>\n",
       "      <td>NaN</td>\n",
       "      <td>NaN</td>\n",
       "      <td>NaN</td>\n",
       "      <td>NaN</td>\n",
       "    </tr>\n",
       "    <tr>\n",
       "      <th>6</th>\n",
       "      <td>NaN</td>\n",
       "      <td>NaN</td>\n",
       "      <td>NaN</td>\n",
       "      <td>NaN</td>\n",
       "      <td>NaN</td>\n",
       "    </tr>\n",
       "    <tr>\n",
       "      <th>7</th>\n",
       "      <td>NaN</td>\n",
       "      <td>NaN</td>\n",
       "      <td>NaN</td>\n",
       "      <td>NaN</td>\n",
       "      <td>NaN</td>\n",
       "    </tr>\n",
       "    <tr>\n",
       "      <th>8</th>\n",
       "      <td>NaN</td>\n",
       "      <td>NaN</td>\n",
       "      <td>NaN</td>\n",
       "      <td>NaN</td>\n",
       "      <td>NaN</td>\n",
       "    </tr>\n",
       "    <tr>\n",
       "      <th>...</th>\n",
       "      <td>...</td>\n",
       "      <td>...</td>\n",
       "      <td>...</td>\n",
       "      <td>...</td>\n",
       "      <td>...</td>\n",
       "    </tr>\n",
       "    <tr>\n",
       "      <th>12973</th>\n",
       "      <td>9.981652</td>\n",
       "      <td>2.079442</td>\n",
       "      <td>2.833213</td>\n",
       "      <td>1.061385</td>\n",
       "      <td>3.555348</td>\n",
       "    </tr>\n",
       "    <tr>\n",
       "      <th>12974</th>\n",
       "      <td>9.981744</td>\n",
       "      <td>2.079442</td>\n",
       "      <td>2.708050</td>\n",
       "      <td>1.041412</td>\n",
       "      <td>3.465736</td>\n",
       "    </tr>\n",
       "    <tr>\n",
       "      <th>12975</th>\n",
       "      <td>9.981790</td>\n",
       "      <td>2.079442</td>\n",
       "      <td>2.995732</td>\n",
       "      <td>1.181143</td>\n",
       "      <td>3.688879</td>\n",
       "    </tr>\n",
       "    <tr>\n",
       "      <th>12976</th>\n",
       "      <td>9.981837</td>\n",
       "      <td>2.079442</td>\n",
       "      <td>2.995732</td>\n",
       "      <td>1.097189</td>\n",
       "      <td>3.688879</td>\n",
       "    </tr>\n",
       "    <tr>\n",
       "      <th>12977</th>\n",
       "      <td>9.981975</td>\n",
       "      <td>2.079442</td>\n",
       "      <td>2.995732</td>\n",
       "      <td>1.097189</td>\n",
       "      <td>3.688879</td>\n",
       "    </tr>\n",
       "  </tbody>\n",
       "</table>\n",
       "<p>13484 rows × 5 columns</p>\n",
       "</div>"
      ],
      "text/plain": [
       "       essay_id  essay_set  rater1_domain1  rater2_domain1  domain1_score\n",
       "2           NaN        NaN             NaN             NaN            NaN\n",
       "3           NaN        NaN             NaN             NaN            NaN\n",
       "6           NaN        NaN             NaN             NaN            NaN\n",
       "7           NaN        NaN             NaN             NaN            NaN\n",
       "8           NaN        NaN             NaN             NaN            NaN\n",
       "...         ...        ...             ...             ...            ...\n",
       "12973  9.981652   2.079442        2.833213        1.061385       3.555348\n",
       "12974  9.981744   2.079442        2.708050        1.041412       3.465736\n",
       "12975  9.981790   2.079442        2.995732        1.181143       3.688879\n",
       "12976  9.981837   2.079442        2.995732        1.097189       3.688879\n",
       "12977  9.981975   2.079442        2.995732        1.097189       3.688879\n",
       "\n",
       "[13484 rows x 5 columns]"
      ]
     },
     "execution_count": 122,
     "metadata": {},
     "output_type": "execute_result"
    }
   ],
   "source": [
    "df_final"
   ]
  },
  {
   "cell_type": "code",
   "execution_count": null,
   "id": "bb664f73-7a6d-40b2-abef-914b50887ed3",
   "metadata": {},
   "outputs": [],
   "source": []
  },
  {
   "cell_type": "code",
   "execution_count": 68,
   "id": "cc9129df-f08e-4e21-946f-fe584cf06752",
   "metadata": {
    "tags": []
   },
   "outputs": [
    {
     "name": "stderr",
     "output_type": "stream",
     "text": [
      "C:\\Users\\Dieu_Merci\\anaconda3\\Lib\\site-packages\\pandas\\core\\internals\\blocks.py:329: RuntimeWarning: divide by zero encountered in log\n",
      "  result = func(self.values, **kwargs)\n"
     ]
    },
    {
     "ename": "ValueError",
     "evalue": "Columns must be same length as key",
     "output_type": "error",
     "traceback": [
      "\u001b[1;31m---------------------------------------------------------------------------\u001b[0m",
      "\u001b[1;31mValueError\u001b[0m                                Traceback (most recent call last)",
      "\u001b[1;32m~\\AppData\\Local\\Temp\\ipykernel_2512\\2687014497.py\u001b[0m in \u001b[0;36m?\u001b[1;34m()\u001b[0m\n\u001b[1;32m----> 1\u001b[1;33m \u001b[0mdf_outliers\u001b[0m\u001b[1;33m[\u001b[0m\u001b[1;34m\"rater2_domain1\"\u001b[0m\u001b[1;33m]\u001b[0m \u001b[1;33m=\u001b[0m \u001b[0mnp\u001b[0m\u001b[1;33m.\u001b[0m\u001b[0mlog\u001b[0m\u001b[1;33m(\u001b[0m\u001b[0mQ3\u001b[0m\u001b[1;33m)\u001b[0m\u001b[1;33m\u001b[0m\u001b[1;33m\u001b[0m\u001b[0m\n\u001b[0m",
      "\u001b[1;32m~\\anaconda3\\Lib\\site-packages\\pandas\\core\\frame.py\u001b[0m in \u001b[0;36m?\u001b[1;34m(self, key, value)\u001b[0m\n\u001b[0;32m   3936\u001b[0m             \u001b[0mself\u001b[0m\u001b[1;33m.\u001b[0m\u001b[0m_setitem_frame\u001b[0m\u001b[1;33m(\u001b[0m\u001b[0mkey\u001b[0m\u001b[1;33m,\u001b[0m \u001b[0mvalue\u001b[0m\u001b[1;33m)\u001b[0m\u001b[1;33m\u001b[0m\u001b[1;33m\u001b[0m\u001b[0m\n\u001b[0;32m   3937\u001b[0m         \u001b[1;32melif\u001b[0m \u001b[0misinstance\u001b[0m\u001b[1;33m(\u001b[0m\u001b[0mkey\u001b[0m\u001b[1;33m,\u001b[0m \u001b[1;33m(\u001b[0m\u001b[0mSeries\u001b[0m\u001b[1;33m,\u001b[0m \u001b[0mnp\u001b[0m\u001b[1;33m.\u001b[0m\u001b[0mndarray\u001b[0m\u001b[1;33m,\u001b[0m \u001b[0mlist\u001b[0m\u001b[1;33m,\u001b[0m \u001b[0mIndex\u001b[0m\u001b[1;33m)\u001b[0m\u001b[1;33m)\u001b[0m\u001b[1;33m:\u001b[0m\u001b[1;33m\u001b[0m\u001b[1;33m\u001b[0m\u001b[0m\n\u001b[0;32m   3938\u001b[0m             \u001b[0mself\u001b[0m\u001b[1;33m.\u001b[0m\u001b[0m_setitem_array\u001b[0m\u001b[1;33m(\u001b[0m\u001b[0mkey\u001b[0m\u001b[1;33m,\u001b[0m \u001b[0mvalue\u001b[0m\u001b[1;33m)\u001b[0m\u001b[1;33m\u001b[0m\u001b[1;33m\u001b[0m\u001b[0m\n\u001b[0;32m   3939\u001b[0m         \u001b[1;32melif\u001b[0m \u001b[0misinstance\u001b[0m\u001b[1;33m(\u001b[0m\u001b[0mvalue\u001b[0m\u001b[1;33m,\u001b[0m \u001b[0mDataFrame\u001b[0m\u001b[1;33m)\u001b[0m\u001b[1;33m:\u001b[0m\u001b[1;33m\u001b[0m\u001b[1;33m\u001b[0m\u001b[0m\n\u001b[1;32m-> 3940\u001b[1;33m             \u001b[0mself\u001b[0m\u001b[1;33m.\u001b[0m\u001b[0m_set_item_frame_value\u001b[0m\u001b[1;33m(\u001b[0m\u001b[0mkey\u001b[0m\u001b[1;33m,\u001b[0m \u001b[0mvalue\u001b[0m\u001b[1;33m)\u001b[0m\u001b[1;33m\u001b[0m\u001b[1;33m\u001b[0m\u001b[0m\n\u001b[0m\u001b[0;32m   3941\u001b[0m         elif (\n\u001b[0;32m   3942\u001b[0m             \u001b[0mis_list_like\u001b[0m\u001b[1;33m(\u001b[0m\u001b[0mvalue\u001b[0m\u001b[1;33m)\u001b[0m\u001b[1;33m\u001b[0m\u001b[1;33m\u001b[0m\u001b[0m\n\u001b[0;32m   3943\u001b[0m             \u001b[1;32mand\u001b[0m \u001b[1;32mnot\u001b[0m \u001b[0mself\u001b[0m\u001b[1;33m.\u001b[0m\u001b[0mcolumns\u001b[0m\u001b[1;33m.\u001b[0m\u001b[0mis_unique\u001b[0m\u001b[1;33m\u001b[0m\u001b[1;33m\u001b[0m\u001b[0m\n",
      "\u001b[1;32m~\\anaconda3\\Lib\\site-packages\\pandas\\core\\frame.py\u001b[0m in \u001b[0;36m?\u001b[1;34m(self, key, value)\u001b[0m\n\u001b[0;32m   4065\u001b[0m             \u001b[0mloc\u001b[0m \u001b[1;33m=\u001b[0m \u001b[0mself\u001b[0m\u001b[1;33m.\u001b[0m\u001b[0mcolumns\u001b[0m\u001b[1;33m.\u001b[0m\u001b[0mget_loc\u001b[0m\u001b[1;33m(\u001b[0m\u001b[0mkey\u001b[0m\u001b[1;33m)\u001b[0m\u001b[1;33m\u001b[0m\u001b[1;33m\u001b[0m\u001b[0m\n\u001b[0;32m   4066\u001b[0m             \u001b[0mcols\u001b[0m \u001b[1;33m=\u001b[0m \u001b[0mself\u001b[0m\u001b[1;33m.\u001b[0m\u001b[0mcolumns\u001b[0m\u001b[1;33m[\u001b[0m\u001b[0mloc\u001b[0m\u001b[1;33m]\u001b[0m\u001b[1;33m\u001b[0m\u001b[1;33m\u001b[0m\u001b[0m\n\u001b[0;32m   4067\u001b[0m             \u001b[0mlen_cols\u001b[0m \u001b[1;33m=\u001b[0m \u001b[1;36m1\u001b[0m \u001b[1;32mif\u001b[0m \u001b[0mis_scalar\u001b[0m\u001b[1;33m(\u001b[0m\u001b[0mcols\u001b[0m\u001b[1;33m)\u001b[0m \u001b[1;32mor\u001b[0m \u001b[0misinstance\u001b[0m\u001b[1;33m(\u001b[0m\u001b[0mcols\u001b[0m\u001b[1;33m,\u001b[0m \u001b[0mtuple\u001b[0m\u001b[1;33m)\u001b[0m \u001b[1;32melse\u001b[0m \u001b[0mlen\u001b[0m\u001b[1;33m(\u001b[0m\u001b[0mcols\u001b[0m\u001b[1;33m)\u001b[0m\u001b[1;33m\u001b[0m\u001b[1;33m\u001b[0m\u001b[0m\n\u001b[0;32m   4068\u001b[0m             \u001b[1;32mif\u001b[0m \u001b[0mlen_cols\u001b[0m \u001b[1;33m!=\u001b[0m \u001b[0mlen\u001b[0m\u001b[1;33m(\u001b[0m\u001b[0mvalue\u001b[0m\u001b[1;33m.\u001b[0m\u001b[0mcolumns\u001b[0m\u001b[1;33m)\u001b[0m\u001b[1;33m:\u001b[0m\u001b[1;33m\u001b[0m\u001b[1;33m\u001b[0m\u001b[0m\n\u001b[1;32m-> 4069\u001b[1;33m                 \u001b[1;32mraise\u001b[0m \u001b[0mValueError\u001b[0m\u001b[1;33m(\u001b[0m\u001b[1;34m\"Columns must be same length as key\"\u001b[0m\u001b[1;33m)\u001b[0m\u001b[1;33m\u001b[0m\u001b[1;33m\u001b[0m\u001b[0m\n\u001b[0m\u001b[0;32m   4070\u001b[0m \u001b[1;33m\u001b[0m\u001b[0m\n\u001b[0;32m   4071\u001b[0m             \u001b[1;31m# align right-hand-side columns if self.columns\u001b[0m\u001b[1;33m\u001b[0m\u001b[1;33m\u001b[0m\u001b[0m\n\u001b[0;32m   4072\u001b[0m             \u001b[1;31m# is multi-index and self[key] is a sub-frame\u001b[0m\u001b[1;33m\u001b[0m\u001b[1;33m\u001b[0m\u001b[0m\n",
      "\u001b[1;31mValueError\u001b[0m: Columns must be same length as key"
     ]
    }
   ],
   "source": [
    "df_outliers[\"rater2_domain1\"] = np.log(Q3)"
   ]
  },
  {
   "cell_type": "code",
   "execution_count": null,
   "id": "d946a4ea-cd50-4afe-8404-61883281442e",
   "metadata": {},
   "outputs": [],
   "source": []
  },
  {
   "cell_type": "code",
   "execution_count": null,
   "id": "64a5820f-5fbc-4536-ae9e-0a9c5aaab397",
   "metadata": {},
   "outputs": [],
   "source": []
  },
  {
   "cell_type": "code",
   "execution_count": null,
   "id": "571df33f-63ce-4db4-bc6e-0a24cdefaf01",
   "metadata": {},
   "outputs": [],
   "source": []
  },
  {
   "cell_type": "code",
   "execution_count": 26,
   "id": "f6bae2ca-1f7b-49e4-843e-1fe2ea3104c4",
   "metadata": {
    "tags": []
   },
   "outputs": [],
   "source": [
    "Q1 = df_outliers.quantile(0.25)\n",
    "Q3 = df_outliers.quantile(0.75)\n",
    "\n",
    "IQR = Q3 - Q1\n",
    "\n",
    "lower_bound = Q1 - 1.5 * IQR\n",
    "upper_bound = Q1 + 1.5 * IQR\n",
    "\n",
    "df_clean_outliers = df[(df_outliers >= lower_bound) & (df_outliers <= upper_bound)]"
   ]
  },
  {
   "cell_type": "code",
   "execution_count": 27,
   "id": "b6c53a33-d883-46fe-b8a6-638cdcd92e6c",
   "metadata": {
    "tags": []
   },
   "outputs": [
    {
     "data": {
      "image/png": "[encoded data removed]",
      "text/plain": [
       "<Figure size 400x500 with 1 Axes>"
      ]
     },
     "metadata": {},
     "output_type": "display_data"
    },
    {
     "data": {
      "image/png": "[encoded data removed]",
      "text/plain": [
       "<Figure size 400x500 with 1 Axes>"
      ]
     },
     "metadata": {},
     "output_type": "display_data"
    },
    {
     "data": {
      "image/png": "[encoded data removed]",
      "text/plain": [
       "<Figure size 400x500 with 1 Axes>"
      ]
     },
     "metadata": {},
     "output_type": "display_data"
    },
    {
     "data": {
      "image/png": "[encoded data removed]",
      "text/plain": [
       "<Figure size 400x500 with 1 Axes>"
      ]
     },
     "metadata": {},
     "output_type": "display_data"
    },
    {
     "data": {
      "image/png": "[encoded data removed]",
      "text/plain": [
       "<Figure size 400x500 with 1 Axes>"
      ]
     },
     "metadata": {},
     "output_type": "display_data"
    },
    {
     "data": {
      "image/png": "[encoded data removed]",
      "text/plain": [
       "<Figure size 400x500 with 1 Axes>"
      ]
     },
     "metadata": {},
     "output_type": "display_data"
    }
   ],
   "source": [
    "for j in df_clean_outliers.columns:\n",
    "    plt.figure(figsize=(4, 5));\n",
    "    sns.boxplot(x=df_clean_outliers[j]);"
   ]
  },
  {
   "cell_type": "code",
   "execution_count": 28,
   "id": "10d2beb7-450a-4ced-aa6e-438b92d944b4",
   "metadata": {
    "tags": []
   },
   "outputs": [
    {
     "data": {
      "text/html": [
       "<div>\n",
       "<style scoped>\n",
       "    .dataframe tbody tr th:only-of-type {\n",
       "        vertical-align: middle;\n",
       "    }\n",
       "\n",
       "    .dataframe tbody tr th {\n",
       "        vertical-align: top;\n",
       "    }\n",
       "\n",
       "    .dataframe thead th {\n",
       "        text-align: right;\n",
       "    }\n",
       "</style>\n",
       "<table border=\"1\" class=\"dataframe\">\n",
       "  <thead>\n",
       "    <tr style=\"text-align: right;\">\n",
       "      <th></th>\n",
       "      <th>essay_id</th>\n",
       "      <th>essay_set</th>\n",
       "      <th>rater1_domain1</th>\n",
       "      <th>rater2_domain1</th>\n",
       "      <th>domain1_score</th>\n",
       "    </tr>\n",
       "  </thead>\n",
       "  <tbody>\n",
       "    <tr>\n",
       "      <th>count</th>\n",
       "      <td>12728.000000</td>\n",
       "      <td>12978.000000</td>\n",
       "      <td>10829.000000</td>\n",
       "      <td>10850.000000</td>\n",
       "      <td>10908.000000</td>\n",
       "    </tr>\n",
       "    <tr>\n",
       "      <th>mean</th>\n",
       "      <td>10075.992222</td>\n",
       "      <td>4.179458</td>\n",
       "      <td>2.592760</td>\n",
       "      <td>2.592719</td>\n",
       "      <td>3.495875</td>\n",
       "    </tr>\n",
       "    <tr>\n",
       "      <th>std</th>\n",
       "      <td>6170.892304</td>\n",
       "      <td>2.136749</td>\n",
       "      <td>1.298392</td>\n",
       "      <td>1.305745</td>\n",
       "      <td>2.659366</td>\n",
       "    </tr>\n",
       "    <tr>\n",
       "      <th>min</th>\n",
       "      <td>1.000000</td>\n",
       "      <td>1.000000</td>\n",
       "      <td>0.000000</td>\n",
       "      <td>0.000000</td>\n",
       "      <td>0.000000</td>\n",
       "    </tr>\n",
       "    <tr>\n",
       "      <th>25%</th>\n",
       "      <td>4376.750000</td>\n",
       "      <td>2.000000</td>\n",
       "      <td>2.000000</td>\n",
       "      <td>2.000000</td>\n",
       "      <td>2.000000</td>\n",
       "    </tr>\n",
       "    <tr>\n",
       "      <th>50%</th>\n",
       "      <td>9920.500000</td>\n",
       "      <td>4.000000</td>\n",
       "      <td>3.000000</td>\n",
       "      <td>3.000000</td>\n",
       "      <td>3.000000</td>\n",
       "    </tr>\n",
       "    <tr>\n",
       "      <th>75%</th>\n",
       "      <td>15493.250000</td>\n",
       "      <td>6.000000</td>\n",
       "      <td>4.000000</td>\n",
       "      <td>4.000000</td>\n",
       "      <td>4.000000</td>\n",
       "    </tr>\n",
       "    <tr>\n",
       "      <th>max</th>\n",
       "      <td>21301.000000</td>\n",
       "      <td>8.000000</td>\n",
       "      <td>5.000000</td>\n",
       "      <td>5.000000</td>\n",
       "      <td>11.000000</td>\n",
       "    </tr>\n",
       "  </tbody>\n",
       "</table>\n",
       "</div>"
      ],
      "text/plain": [
       "           essay_id     essay_set  rater1_domain1  rater2_domain1  \\\n",
       "count  12728.000000  12978.000000    10829.000000    10850.000000   \n",
       "mean   10075.992222      4.179458        2.592760        2.592719   \n",
       "std     6170.892304      2.136749        1.298392        1.305745   \n",
       "min        1.000000      1.000000        0.000000        0.000000   \n",
       "25%     4376.750000      2.000000        2.000000        2.000000   \n",
       "50%     9920.500000      4.000000        3.000000        3.000000   \n",
       "75%    15493.250000      6.000000        4.000000        4.000000   \n",
       "max    21301.000000      8.000000        5.000000        5.000000   \n",
       "\n",
       "       domain1_score  \n",
       "count   10908.000000  \n",
       "mean        3.495875  \n",
       "std         2.659366  \n",
       "min         0.000000  \n",
       "25%         2.000000  \n",
       "50%         3.000000  \n",
       "75%         4.000000  \n",
       "max        11.000000  "
      ]
     },
     "execution_count": 28,
     "metadata": {},
     "output_type": "execute_result"
    }
   ],
   "source": [
    "df_clean_outliers.describe()"
   ]
  },
  {
   "cell_type": "code",
   "execution_count": 29,
   "id": "3d7bc414-91ae-421b-9471-16429d4744e4",
   "metadata": {
    "tags": []
   },
   "outputs": [
    {
     "data": {
      "text/plain": [
       "essay_id            250\n",
       "essay_set             0\n",
       "essay             12978\n",
       "rater1_domain1     2149\n",
       "rater2_domain1     2128\n",
       "domain1_score      2070\n",
       "dtype: int64"
      ]
     },
     "execution_count": 29,
     "metadata": {},
     "output_type": "execute_result"
    }
   ],
   "source": [
    "df_clean_outliers.isnull().sum()"
   ]
  },
  {
   "cell_type": "code",
   "execution_count": 30,
   "id": "d99705c1-25bb-4696-8690-c66a4bd506fa",
   "metadata": {
    "tags": []
   },
   "outputs": [
    {
     "data": {
      "text/plain": [
       "(12978, 6)"
      ]
     },
     "execution_count": 30,
     "metadata": {},
     "output_type": "execute_result"
    }
   ],
   "source": [
    "df_clean_outliers.shape"
   ]
  },
  {
   "cell_type": "code",
   "execution_count": 31,
   "id": "6a6f53a8-436a-43ff-93f6-37be5ef68b2a",
   "metadata": {
    "tags": []
   },
   "outputs": [
    {
     "data": {
      "text/plain": [
       "essay_id          6170.892304\n",
       "essay_set            2.136749\n",
       "essay                     NaN\n",
       "rater1_domain1       1.298392\n",
       "rater2_domain1       1.305745\n",
       "domain1_score        2.659366\n",
       "dtype: object"
      ]
     },
     "execution_count": 31,
     "metadata": {},
     "output_type": "execute_result"
    }
   ],
   "source": [
    "df_clean_outliers.std()"
   ]
  },
  {
   "cell_type": "code",
   "execution_count": 32,
   "id": "18db8eac-2a3c-4fff-b503-e670fd6f54ce",
   "metadata": {
    "tags": []
   },
   "outputs": [],
   "source": [
    "df1 = df_clean_outliers.copy()"
   ]
  },
  {
   "cell_type": "code",
   "execution_count": null,
   "id": "2c4e4c51-d2ee-45b9-8e8a-3c4de281df0b",
   "metadata": {},
   "outputs": [],
   "source": []
  },
  {
   "cell_type": "code",
   "execution_count": 34,
   "id": "a42f7ab3-5301-4f58-b6ee-92b0cef58c8b",
   "metadata": {
    "tags": []
   },
   "outputs": [],
   "source": [
    "dt = df_outliers[df_outliers[\"rater2_domain1\"] > 19]"
   ]
  },
  {
   "cell_type": "code",
   "execution_count": 36,
   "id": "ce19a8d8-dae6-47ae-a010-06335a12b5c9",
   "metadata": {
    "tags": []
   },
   "outputs": [
    {
     "data": {
      "text/plain": [
       "Index([12256, 12257, 12258, 12261, 12263, 12264, 12269, 12271, 12272, 12274,\n",
       "       ...\n",
       "       12954, 12959, 12960, 12961, 12962, 12963, 12970, 12975, 12976, 12977],\n",
       "      dtype='int64', length=333)"
      ]
     },
     "execution_count": 36,
     "metadata": {},
     "output_type": "execute_result"
    }
   ],
   "source": [
    "dt.index"
   ]
  },
  {
   "cell_type": "code",
   "execution_count": null,
   "id": "6490c9c3-03e5-4121-9ea1-6b474b4a1780",
   "metadata": {},
   "outputs": [],
   "source": []
  },
  {
   "cell_type": "code",
   "execution_count": null,
   "id": "5a0fb1bb-bf23-437a-89c7-16e97ba3fa21",
   "metadata": {},
   "outputs": [],
   "source": []
  },
  {
   "cell_type": "code",
   "execution_count": 51,
   "id": "90c4593e-84aa-469f-b9d6-746b3b42a936",
   "metadata": {
    "tags": []
   },
   "outputs": [
    {
     "name": "stdout",
     "output_type": "stream",
     "text": [
      "Key      Value          \n",
      "Length  : 1333           \n",
      "vowels  : 144            \n",
      "consonants: 231            \n",
      "stopwords: 33             \n",
      "punctuations: 71             \n",
      "special_char: 71             \n",
      "tokens(whitespace): 147            \n",
      "tokens(words): 142            \n"
     ]
    }
   ],
   "source": [
    "text_data = nt.TextFrame(str(data))\n",
    "text_data.describe()"
   ]
  },
  {
   "cell_type": "code",
   "execution_count": 52,
   "id": "a016d590-857b-4e24-bc4a-7bfc994d48eb",
   "metadata": {
    "tags": []
   },
   "outputs": [
    {
     "data": {
      "text/plain": [
       "Counter({'1': 7,\n",
       "         'CAPS1': 5,\n",
       "         '8': 5,\n",
       "         'Dear': 4,\n",
       "         'I': 3,\n",
       "         'have': 3,\n",
       "         'to': 3,\n",
       "         '4': 3,\n",
       "         '0': 2,\n",
       "         '2383': 2,\n",
       "         'that': 2,\n",
       "         'a': 2,\n",
       "         '2384': 2,\n",
       "         '2': 2,\n",
       "         '2385': 2,\n",
       "         '3': 2,\n",
       "         '2386': 2,\n",
       "         'CAPS2': 2,\n",
       "         'my': 2,\n",
       "         '2387': 2,\n",
       "         'people': 2,\n",
       "         '4249': 2,\n",
       "         '4250': 2,\n",
       "         'the': 2,\n",
       "         '4251': 2,\n",
       "         '4252': 2,\n",
       "         '4253': 2,\n",
       "         'essay_id': 1,\n",
       "         'essay_set': 1,\n",
       "         'essay': 1,\n",
       "         'believe': 1,\n",
       "         'computers': 1,\n",
       "         'positive': 1,\n",
       "         'effec': 1,\n",
       "         'know': 1,\n",
       "         'some': 1,\n",
       "         'problems': 1,\n",
       "         'came': 1,\n",
       "         'up': 1,\n",
       "         'whom': 1,\n",
       "         'it': 1,\n",
       "         'MONTH1': 1,\n",
       "         'concern': 1,\n",
       "         'Computers': 1,\n",
       "         'are': 1,\n",
       "         'CAPS3': 1,\n",
       "         'has': 1,\n",
       "         'come': 1,\n",
       "         'atte': 1,\n",
       "         'Local': 1,\n",
       "         'newspaper': 1,\n",
       "         'think': 1,\n",
       "         '22238': 1,\n",
       "         'Just': 1,\n",
       "         'One': 1,\n",
       "         'can': 1,\n",
       "         'bring': 1,\n",
       "         'togeth': 1,\n",
       "         '22239': 1,\n",
       "         'CAPS8': 1,\n",
       "         'Was': 1,\n",
       "         'first': 1,\n",
       "         'time': 1,\n",
       "         'going': 1,\n",
       "         'band': 1,\n",
       "         'ca': 1,\n",
       "         '22240': 1,\n",
       "         'Laughter': 1,\n",
       "         'is': 1,\n",
       "         'one': 1,\n",
       "         'of': 1,\n",
       "         'most': 1,\n",
       "         'important': 1,\n",
       "         'things': 1,\n",
       "         'i': 1,\n",
       "         '22241': 1,\n",
       "         'A': 1,\n",
       "         'Of': 1,\n",
       "         'C': 1,\n",
       "         '22242': 1,\n",
       "         'Good': 1,\n",
       "         'In': 1,\n",
       "         'LOCATION1': 1,\n",
       "         'Every': 1,\n",
       "         'year': 1,\n",
       "         'sel': 1,\n",
       "         'domain1_predictionid': 1,\n",
       "         '25238': 1,\n",
       "         '25239': 1,\n",
       "         '25240': 1,\n",
       "         '25241': 1,\n",
       "         '25242': 1,\n",
       "         '4254': 1,\n",
       "         'rows': 1,\n",
       "         'x': 1,\n",
       "         'columns': 1})"
      ]
     },
     "execution_count": 52,
     "metadata": {},
     "output_type": "execute_result"
    }
   ],
   "source": [
    "text_data.bow()"
   ]
  },
  {
   "cell_type": "code",
   "execution_count": 53,
   "id": "0a388cd8-a5fb-4548-8edf-ae9fdedfea04",
   "metadata": {
    "tags": []
   },
   "outputs": [
    {
     "data": {
      "text/plain": [
       "{'memory': 1382, 'human_readable': '1.35 KB'}"
      ]
     },
     "execution_count": 53,
     "metadata": {},
     "output_type": "execute_result"
    }
   ],
   "source": [
    "text_data.memory_usage()"
   ]
  },
  {
   "cell_type": "code",
   "execution_count": 54,
   "id": "4dc40417-f13b-4bdf-8616-f387daf78046",
   "metadata": {
    "tags": []
   },
   "outputs": [
    {
     "data": {
      "text/plain": [
       "{'Length of Text': 1333,\n",
       " 'Num of Vowels': 144,\n",
       " 'Num of Consonants': 231,\n",
       " 'Num of Stopwords': 33,\n",
       " 'Stats of Vowels': {'a': 39, 'e': 44, 'i': 23, 'o': 32, 'u': 6},\n",
       " 'Stats of Consonants': {'b': 4,\n",
       "  'c': 23,\n",
       "  'd': 10,\n",
       "  'f': 5,\n",
       "  'g': 7,\n",
       "  'h': 14,\n",
       "  'j': 1,\n",
       "  'k': 2,\n",
       "  'l': 10,\n",
       "  'm': 15,\n",
       "  'n': 19,\n",
       "  'p': 22,\n",
       "  'q': 0,\n",
       "  'r': 18,\n",
       "  's': 32,\n",
       "  't': 30,\n",
       "  'v': 6,\n",
       "  'w': 5,\n",
       "  'x': 1,\n",
       "  'y': 7,\n",
       "  'z': 0}}"
      ]
     },
     "execution_count": 54,
     "metadata": {},
     "output_type": "execute_result"
    }
   ],
   "source": [
    "text_data.word_stats()"
   ]
  },
  {
   "cell_type": "code",
   "execution_count": 55,
   "id": "b1fe1455-464d-4e3c-9afb-6316a588c6a6",
   "metadata": {
    "tags": []
   },
   "outputs": [
    {
     "data": {
      "text/plain": [
       "{'essay_id': 0.14285714285714285,\n",
       " 'essay_set': 0.14285714285714285,\n",
       " 'essay': 0.14285714285714285,\n",
       " '\\\\': 0.14285714285714285,\n",
       " '0': 0.2857142857142857,\n",
       " '2383': 0.2857142857142857,\n",
       " '1': 1.0,\n",
       " 'I': 0.42857142857142855,\n",
       " 'believe': 0.14285714285714285,\n",
       " 'computers': 0.14285714285714285,\n",
       " 'positive': 0.14285714285714285,\n",
       " 'effec...': 0.14285714285714285,\n",
       " '2384': 0.2857142857142857,\n",
       " 'Dear': 0.5714285714285714,\n",
       " '@CAPS1,': 0.14285714285714285,\n",
       " 'know': 0.14285714285714285,\n",
       " 'problems': 0.14285714285714285,\n",
       " 'came': 0.14285714285714285,\n",
       " 'up...': 0.14285714285714285,\n",
       " '2': 0.2857142857142857,\n",
       " '2385': 0.2857142857142857,\n",
       " '@MONTH1': 0.14285714285714285,\n",
       " 'concern,': 0.14285714285714285,\n",
       " 'Computers': 0.14285714285714285,\n",
       " 'are...': 0.14285714285714285,\n",
       " '3': 0.2857142857142857,\n",
       " '2386': 0.2857142857142857,\n",
       " '@CAPS1': 0.5714285714285714,\n",
       " '@CAPS2,': 0.14285714285714285,\n",
       " '@CAPS3': 0.14285714285714285,\n",
       " 'come': 0.14285714285714285,\n",
       " 'atte...': 0.14285714285714285,\n",
       " '4': 0.42857142857142855,\n",
       " '2387': 0.2857142857142857,\n",
       " 'Local': 0.14285714285714285,\n",
       " 'newspaper,': 0.14285714285714285,\n",
       " 'think': 0.14285714285714285,\n",
       " 'people': 0.2857142857142857,\n",
       " 'have...': 0.14285714285714285,\n",
       " '...': 0.8571428571428571,\n",
       " '4249': 0.2857142857142857,\n",
       " '22238': 0.14285714285714285,\n",
       " '8': 0.7142857142857143,\n",
       " 'Just': 0.14285714285714285,\n",
       " 'One': 0.14285714285714285,\n",
       " '@CAPS2': 0.14285714285714285,\n",
       " 'bring': 0.14285714285714285,\n",
       " 'togeth...': 0.14285714285714285,\n",
       " '4250': 0.2857142857142857,\n",
       " '22239': 0.14285714285714285,\n",
       " '@CAPS8': 0.14285714285714285,\n",
       " 'Was': 0.14285714285714285,\n",
       " 'time': 0.14285714285714285,\n",
       " 'going': 0.14285714285714285,\n",
       " 'band': 0.14285714285714285,\n",
       " 'ca...': 0.14285714285714285,\n",
       " '4251': 0.2857142857142857,\n",
       " '22240': 0.14285714285714285,\n",
       " 'Laughter': 0.14285714285714285,\n",
       " 'important': 0.14285714285714285,\n",
       " 'things': 0.14285714285714285,\n",
       " 'i...': 0.14285714285714285,\n",
       " '4252': 0.2857142857142857,\n",
       " '22241': 0.14285714285714285,\n",
       " 'A': 0.14285714285714285,\n",
       " 'Of': 0.14285714285714285,\n",
       " '@C...': 0.14285714285714285,\n",
       " '4253': 0.2857142857142857,\n",
       " '22242': 0.14285714285714285,\n",
       " 'Good': 0.14285714285714285,\n",
       " 'In': 0.14285714285714285,\n",
       " '@LOCATION1.': 0.14285714285714285,\n",
       " 'Every': 0.14285714285714285,\n",
       " 'year': 0.14285714285714285,\n",
       " 'sel...': 0.14285714285714285,\n",
       " 'domain1_predictionid': 0.14285714285714285,\n",
       " '25238': 0.14285714285714285,\n",
       " '25239': 0.14285714285714285,\n",
       " '25240': 0.14285714285714285,\n",
       " '25241': 0.14285714285714285,\n",
       " '25242': 0.14285714285714285,\n",
       " '[4254': 0.14285714285714285,\n",
       " 'rows': 0.14285714285714285,\n",
       " 'x': 0.14285714285714285,\n",
       " 'columns]': 0.14285714285714285}"
      ]
     },
     "execution_count": 55,
     "metadata": {},
     "output_type": "execute_result"
    }
   ],
   "source": [
    "text_data.term_freq()"
   ]
  },
  {
   "cell_type": "code",
   "execution_count": 56,
   "id": "c7a0c9aa-2af0-4d86-ba3f-80941115c221",
   "metadata": {
    "tags": []
   },
   "outputs": [
    {
     "data": {
      "text/plain": [
       "'      essayid  essayset                                              essay             i believe that computers have a positive effec     dear caps i know some problems have came up     dear to whom it month concern computers are     dear caps caps caps has come to my atte     dear local newspaper i think that people have                                                                        just one caps caps can bring people togeth      caps was my first time going to the band ca     laughter is one of the most important things i                                     a caps of c       good caps in location  every year a sel         domainpredictionid                                                                  rows x  columns'"
      ]
     },
     "execution_count": 56,
     "metadata": {},
     "output_type": "execute_result"
    }
   ],
   "source": [
    "data_clean = text_data.clean_text()\n",
    "data_clean"
   ]
  },
  {
   "cell_type": "code",
   "execution_count": 57,
   "id": "5b746b6d-313e-48db-bb55-736a171629e8",
   "metadata": {
    "tags": []
   },
   "outputs": [
    {
     "data": {
      "text/plain": [
       "0          essayid  essayset                       ...\n",
       "dtype: object"
      ]
     },
     "execution_count": 57,
     "metadata": {},
     "output_type": "execute_result"
    }
   ],
   "source": [
    "data_c = pd.Series(data_clean)\n",
    "data_c"
   ]
  },
  {
   "cell_type": "code",
   "execution_count": 61,
   "id": "b368881c-7ae7-4af2-9ba4-715a2d5b20b7",
   "metadata": {
    "tags": []
   },
   "outputs": [],
   "source": [
    "data_c_to_numeric = hero.tfidf(data_c)"
   ]
  },
  {
   "cell_type": "code",
   "execution_count": 62,
   "id": "2d2d6bac-73eb-4a1d-b2aa-889e7c927ebe",
   "metadata": {
    "tags": []
   },
   "outputs": [
    {
     "data": {
      "text/plain": [
       "0    [0.2041241452319315, 0.06804138174397717, 0.06...\n",
       "dtype: object"
      ]
     },
     "execution_count": 62,
     "metadata": {},
     "output_type": "execute_result"
    }
   ],
   "source": [
    "data_c_to_numeric"
   ]
  },
  {
   "cell_type": "code",
   "execution_count": null,
   "id": "dfb8dac5-7a2b-47da-9e88-ef4e5d3af9eb",
   "metadata": {},
   "outputs": [],
   "source": [
    "# OPCO qui paye la formation des étudiants en alternance"
   ]
  }
 ],
 "metadata": {
  "kernelspec": {
   "display_name": "Python 3 (ipykernel)",
   "language": "python",
   "name": "python3"
  },
  "language_info": {
   "codemirror_mode": {
    "name": "ipython",
    "version": 3
   },
   "file_extension": ".py",
   "mimetype": "text/x-python",
   "name": "python",
   "nbconvert_exporter": "python",
   "pygments_lexer": "ipython3",
   "version": "3.11.5"
  },
  "widgets": {
   "application/vnd.jupyter.widget-state+json": {
    "state": {},
    "version_major": 2,
    "version_minor": 0
   }
  }
 },
 "nbformat": 4,
 "nbformat_minor": 5
}
